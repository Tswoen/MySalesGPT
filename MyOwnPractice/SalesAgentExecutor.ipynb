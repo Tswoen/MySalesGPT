{
 "cells": [
  {
   "cell_type": "code",
   "id": "initial_id",
   "metadata": {
    "collapsed": true,
    "ExecuteTime": {
     "end_time": "2025-05-23T06:28:24.664977Z",
     "start_time": "2025-05-23T06:28:24.654820Z"
    }
   },
   "source": [
    "import os\n",
    "from typing import Any, List, Union\n",
    "\n",
    "from langchain_community.chat_models import ChatLiteLLM\n",
    "from langchain_core.agents import AgentAction, AgentFinish\n",
    "from langchain_core.output_parsers import BaseOutputParser\n",
    "from langchain_core.output_parsers.base import T\n",
    "from langchain_core.prompts import PromptTemplate\n",
    "from langchain.chains import LLMChain\n",
    "from langchain.agents import Tool, LLMSingleActionAgent, initialize_agent, AgentExecutor\n",
    "\n",
    "from langchain.agents.agent import AgentOutputParser\n",
    "from langchain.agents.conversational.prompt import FORMAT_INSTRUCTIONS\n"
   ],
   "outputs": [],
   "execution_count": 22
  },
  {
   "metadata": {
    "ExecuteTime": {
     "end_time": "2025-05-23T06:33:15.771166Z",
     "start_time": "2025-05-23T06:33:15.751165Z"
    }
   },
   "cell_type": "code",
   "source": [
    "def search(query):\n",
    "    # This function should implement the logic to search for products\n",
    "    # For now, it just returns a placeholder response\n",
    "    return f\"Searching for: {query}\"\n",
    "\n",
    "tools = [\n",
    "    Tool(\n",
    "            name=\"ProductSearch\",\n",
    "            func=search,\n",
    "            description=\"useful for when you need to answer questions about product information or services offered, availability and their costs.\",\n",
    "        )\n",
    "]\n",
    "tool_names = [tool.name for tool in tools]"
   ],
   "id": "d1cc72f279a22e59",
   "outputs": [],
   "execution_count": 25
  },
  {
   "metadata": {
    "ExecuteTime": {
     "end_time": "2025-05-23T03:31:12.818954Z",
     "start_time": "2025-05-23T03:31:12.810452Z"
    }
   },
   "cell_type": "code",
   "source": [
    "class SalesConverOutputParser(BaseOutputParser):\n",
    "\n",
    "    def get_format_instructions(self) -> str:\n",
    "        return \"\"\"\n",
    "if use a tool, please use the following format:\n",
    "```\n",
    "Thought: Do I need to use a tool? Yes\n",
    "Action: the action to take, I should use the tool —— [tool's name]\n",
    "```\n",
    "\n",
    "if don't use a tool, please use the following format:\n",
    "```\n",
    "Thought: Do I need to use a tool? No\n",
    "Observation: Directly output the answer you generated here\n",
    "\"\"\"\n",
    "\n",
    "    def parse(self, text: str) -> Union[List[str],str]:\n",
    "        # This function should implement the logic to parse the output\n",
    "        # For now, it just returns the text as a list\n",
    "        if \"Action:\" in text:\n",
    "            return text.split(\"Action:\")[1].split()\n",
    "        return text\n",
    "\n",
    "# output_parser = SalesConvoOutputParser()"
   ],
   "id": "4e765ac892deb3c2",
   "outputs": [],
   "execution_count": 4
  },
  {
   "metadata": {
    "ExecuteTime": {
     "end_time": "2025-05-23T03:55:18.554056Z",
     "start_time": "2025-05-23T03:55:18.526278Z"
    }
   },
   "cell_type": "code",
   "source": [
    "import re\n",
    "\n",
    "class SalesConvoOutputParser(AgentOutputParser):\n",
    "    ai_prefix: str = \"AI\"  # change for salesperson_name\n",
    "    verbose: bool = False\n",
    "\n",
    "    def get_format_instructions(self) -> str:\n",
    "        return \"\"\"To use a tool, please use the following format:\n",
    "\n",
    "```\n",
    "Thought: Do I need to use a tool? Yes\n",
    "Action: the action to take, should be one of [{tool_names}]\n",
    "Action Input: the input to the action\n",
    "Observation: the result of the action\n",
    "```\n",
    "\n",
    "When you have a response to say to the Human, or if you do not need to use a tool, you MUST use the format:\n",
    "\n",
    "```\n",
    "Thought: Do I need to use a tool? No\n",
    "{ai_prefix}: [your response here]\n",
    "```\"\"\"\n",
    "\n",
    "    def parse(self, text: str) -> Union[AgentAction, AgentFinish]:\n",
    "        if self.verbose:\n",
    "            print(\"TEXT\")\n",
    "            print(text)\n",
    "            print(\"-------\")\n",
    "        regex = r\"Action: (.*?)[\\n]*Action Input: (.*)\"\n",
    "        match = re.search(regex, text)\n",
    "        if not match:\n",
    "            return AgentFinish(\n",
    "                {\"output\": text.split(f\"{self.ai_prefix}:\")[-1].strip()}, text\n",
    "            )\n",
    "        action = match.group(1)\n",
    "        action_input = match.group(2)\n",
    "        return AgentAction(action.strip(), action_input.strip(\" \").strip('\"'), text)\n",
    "\n",
    "output_parser = SalesConvoOutputParser()"
   ],
   "id": "2303ccbb3b6faa54",
   "outputs": [],
   "execution_count": 14
  },
  {
   "metadata": {
    "ExecuteTime": {
     "end_time": "2025-05-23T08:29:14.217701Z",
     "start_time": "2025-05-23T08:29:14.194907Z"
    }
   },
   "cell_type": "code",
   "source": [
    "class CustomPromptTemplateForTools(PromptTemplate):\n",
    "\n",
    "    template: str\n",
    "    tools: list[Tool]\n",
    "\n",
    "    def format(self, **kwargs: Any) -> str:\n",
    "        kwargs = self._merge_partial_and_user_variables(**kwargs)\n",
    "        kwargs[\"tools\"] = \"\\n\".join(\n",
    "            [f\"{tool.name}: {tool.description}\" for tool in tools]\n",
    "        )\n",
    "        kwargs[\"format_instruction\"] = output_parser.get_format_instructions()\n",
    "        return self.template.format(**kwargs)\n",
    "\n",
    "prompt = CustomPromptTemplateForTools(\n",
    "    template=\"You are an AI Sales agent, sell me anything，Here are the questions you must answer:{input}\\n\\nAnd you has access to the following tools: \\n{tools} \\n {format_instruction} \\n{intermediate_steps}\",\n",
    "    tools=tools,\n",
    "    input_variables=[\"input\", \"intermediate_steps\",\"tools\"],\n",
    "    partial_variables={\"format_instruction\": output_parser.get_format_instructions()},\n",
    "    validate_template=True\n",
    ")\n",
    "# print(prompt)\n",
    "print(prompt.format(input=\"Who are you?\", intermediate_steps=[]))"
   ],
   "id": "23eb8d5a1d5e9592",
   "outputs": [
    {
     "name": "stdout",
     "output_type": "stream",
     "text": [
      "You are an AI Sales agent, sell me anything，Here are the questions you must answer:Who are you?\n",
      "\n",
      "And you has access to the following tools: \n",
      "ProductSearch: useful for when you need to answer questions about product information or services offered, availability and their costs. \n",
      " To use a tool, please use the following format:\n",
      "\n",
      "```\n",
      "Thought: Do I need to use a tool? Yes\n",
      "Action: the action to take, should be one of [{tool_names}]\n",
      "Action Input: the input to the action\n",
      "Observation: the result of the action\n",
      "```\n",
      "\n",
      "When you have a response to say to the Human, or if you do not need to use a tool, you MUST use the format:\n",
      "\n",
      "```\n",
      "Thought: Do I need to use a tool? No\n",
      "{ai_prefix}: [your response here]\n",
      "``` \n",
      "[]\n"
     ]
    }
   ],
   "execution_count": 80
  },
  {
   "metadata": {
    "ExecuteTime": {
     "end_time": "2025-05-23T06:57:15.163993Z",
     "start_time": "2025-05-23T06:57:15.144565Z"
    }
   },
   "cell_type": "code",
   "source": [
    "os.environ[\"DASHSCOPE_API_KEY\"] = 'sk-36c7f4e71d904a35afab94dc68747d48'\n",
    "llm = ChatLiteLLM(model=\"openai/qwen-max\",\n",
    "                  api_base=\"https://dashscope.aliyuncs.com/compatible-mode/v1\",\n",
    "                  api_key=os.environ.get('DASHSCOPE_API_KEY'))"
   ],
   "id": "eaa154832ff71440",
   "outputs": [],
   "execution_count": 40
  },
  {
   "metadata": {
    "ExecuteTime": {
     "end_time": "2025-05-23T08:29:19.914767Z",
     "start_time": "2025-05-23T08:29:19.904142Z"
    }
   },
   "cell_type": "code",
   "source": "llm_chain = LLMChain(llm=llm, prompt=prompt, verbose=True)",
   "id": "303d711cb07028",
   "outputs": [],
   "execution_count": 81
  },
  {
   "metadata": {
    "ExecuteTime": {
     "end_time": "2025-05-23T08:29:23.077365Z",
     "start_time": "2025-05-23T08:29:23.066937Z"
    }
   },
   "cell_type": "code",
   "source": [
    "sales_agent_with_tools = LLMSingleActionAgent(\n",
    "                llm_chain=llm_chain,\n",
    "                output_parser=output_parser,\n",
    "                stop=[\"\\nObservation:\"],\n",
    "                allowed_tools=tool_names,\n",
    "            )"
   ],
   "id": "858d8bb18760eba6",
   "outputs": [],
   "execution_count": 82
  },
  {
   "metadata": {
    "ExecuteTime": {
     "end_time": "2025-05-23T08:29:25.768086Z",
     "start_time": "2025-05-23T08:29:25.754341Z"
    }
   },
   "cell_type": "code",
   "source": [
    "agent = AgentExecutor.from_agent_and_tools(\n",
    "    agent=sales_agent_with_tools,\n",
    "    tools=tools,\n",
    "    verbose=True,\n",
    ")"
   ],
   "id": "63743419449c14b0",
   "outputs": [],
   "execution_count": 83
  },
  {
   "metadata": {
    "ExecuteTime": {
     "end_time": "2025-05-23T09:44:19.561954Z",
     "start_time": "2025-05-23T09:11:03.873275Z"
    }
   },
   "cell_type": "code",
   "source": [
    "inputs = {\n",
    "    \"input\": \"Who are you?\",\n",
    "    \"tools\":\"\",\n",
    "}\n",
    "# res = agent.run(inputs)\n",
    "res = agent.invoke(inputs)\n",
    "print(res)"
   ],
   "id": "9cdbadc649872626",
   "outputs": [
    {
     "name": "stdout",
     "output_type": "stream",
     "text": [
      "\n",
      "\n",
      "\u001B[1m> Entering new AgentExecutor chain...\u001B[0m\n",
      "\n",
      "\n",
      "\u001B[1m> Entering new LLMChain chain...\u001B[0m\n",
      "Prompt after formatting:\n",
      "\u001B[32;1m\u001B[1;3mYou are an AI Sales agent, sell me anything，Here are the questions you must answer:Who are you?\n",
      "\n",
      "And you has access to the following tools: \n",
      "ProductSearch: useful for when you need to answer questions about product information or services offered, availability and their costs. \n",
      " To use a tool, please use the following format:\n",
      "\n",
      "```\n",
      "Thought: Do I need to use a tool? Yes\n",
      "Action: the action to take, should be one of [{tool_names}]\n",
      "Action Input: the input to the action\n",
      "Observation: the result of the action\n",
      "```\n",
      "\n",
      "When you have a response to say to the Human, or if you do not need to use a tool, you MUST use the format:\n",
      "\n",
      "```\n",
      "Thought: Do I need to use a tool? No\n",
      "{ai_prefix}: [your response here]\n",
      "``` \n",
      "[]\u001B[0m\n",
      "\n",
      "\u001B[1m> Finished chain.\u001B[0m\n",
      "\u001B[32;1m\u001B[1;3mThought: Do I need to use a tool? No\n",
      "Qwen: Hello! I'm Qwen, your friendly AI sales assistant, here to help you find the perfect product or service that meets your needs. How can I assist you today? Before we dive in, is there anything specific you're looking for, or would you like some recommendations based on popular choices?\u001B[0m\n",
      "\n",
      "\u001B[1m> Finished chain.\u001B[0m\n",
      "{'input': 'Who are you?', 'tools': '', 'output': \"Thought: Do I need to use a tool? No\\nQwen: Hello! I'm Qwen, your friendly AI sales assistant, here to help you find the perfect product or service that meets your needs. How can I assist you today? Before we dive in, is there anything specific you're looking for, or would you like some recommendations based on popular choices?\"}\n"
     ]
    }
   ],
   "execution_count": 91
  },
  {
   "metadata": {
    "ExecuteTime": {
     "end_time": "2025-05-23T09:44:19.639544Z",
     "start_time": "2025-05-23T09:44:19.615984Z"
    }
   },
   "cell_type": "code",
   "source": [
    "# Define template\n",
    "template = \"What are the capitals of {country1} and {country2}, respectively?\"\n",
    "\n",
    "# Create a prompt template with `PromptTemplate` object\n",
    "prompt = PromptTemplate(\n",
    "    template=template,\n",
    "    input_variables=[\"country1\"],\n",
    "    partial_variables={\n",
    "        \"country2\": \"United States of America\"  # Pass `partial_variables` in dictionary form\n",
    "    },\n",
    "    validate_template=True\n",
    ")\n",
    "# print(prompt)\n",
    "formatted_prompt = prompt.format(country1=\"France\")\n",
    "print(formatted_prompt)"
   ],
   "id": "ee0dc23a16fd6c6a",
   "outputs": [
    {
     "name": "stdout",
     "output_type": "stream",
     "text": [
      "What are the capitals of France and United States of America, respectively?\n"
     ]
    }
   ],
   "execution_count": 92
  }
 ],
 "metadata": {
  "kernelspec": {
   "display_name": "Python 3",
   "language": "python",
   "name": "python3"
  },
  "language_info": {
   "codemirror_mode": {
    "name": "ipython",
    "version": 2
   },
   "file_extension": ".py",
   "mimetype": "text/x-python",
   "name": "python",
   "nbconvert_exporter": "python",
   "pygments_lexer": "ipython2",
   "version": "2.7.6"
  }
 },
 "nbformat": 4,
 "nbformat_minor": 5
}
