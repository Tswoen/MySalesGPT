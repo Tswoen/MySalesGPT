{
 "cells": [
  {
   "cell_type": "code",
   "id": "initial_id",
   "metadata": {
    "collapsed": true,
    "ExecuteTime": {
     "end_time": "2025-05-23T23:04:00.774388Z",
     "start_time": "2025-05-23T23:04:00.764257Z"
    }
   },
   "source": [
    "import os\n",
    "from typing import Any, List, Union\n",
    "\n",
    "from langchain_community.chat_models import ChatLiteLLM\n",
    "from langchain_core.agents import AgentAction, AgentFinish\n",
    "from langchain_core.output_parsers import BaseOutputParser\n",
    "from langchain_core.output_parsers.base import T\n",
    "from langchain_core.prompts import PromptTemplate\n",
    "from langchain.chains.llm import LLMChain\n",
    "from langchain.agents import Tool, LLMSingleActionAgent, initialize_agent, AgentExecutor\n",
    "\n",
    "from langchain.agents.agent import AgentOutputParser\n",
    "from langchain.agents.conversational.prompt import FORMAT_INSTRUCTIONS\n",
    "from langchain_core.runnables import RunnableSequence\n"
   ],
   "outputs": [],
   "execution_count": 19
  },
  {
   "metadata": {
    "ExecuteTime": {
     "end_time": "2025-05-23T22:55:35.496931Z",
     "start_time": "2025-05-23T22:55:35.490951Z"
    }
   },
   "cell_type": "code",
   "source": [
    "def search(query):\n",
    "    # This function should implement the logic to search for products\n",
    "    # For now, it just returns a placeholder response\n",
    "    return f\"Searching for: {query}\"\n",
    "\n",
    "tools = [\n",
    "    Tool(\n",
    "            name=\"ProductSearch\",\n",
    "            func=search,\n",
    "            description=\"useful for when you need to answer questions about product information or services offered, availability and their costs.\",\n",
    "        )\n",
    "]\n",
    "tool_names = [tool.name for tool in tools]"
   ],
   "id": "d1cc72f279a22e59",
   "outputs": [],
   "execution_count": 2
  },
  {
   "metadata": {
    "ExecuteTime": {
     "end_time": "2025-05-23T22:56:08.614151Z",
     "start_time": "2025-05-23T22:56:08.605807Z"
    }
   },
   "cell_type": "code",
   "source": [
    "import re\n",
    "\n",
    "class SalesConvoOutputParser(AgentOutputParser):\n",
    "    ai_prefix: str = \"AI\"  # change for salesperson_name\n",
    "    verbose: bool = False\n",
    "\n",
    "    def get_format_instructions(self) -> str:\n",
    "        return \"\"\"To use a tool, please use the following format:\n",
    "\n",
    "```\n",
    "Thought: Do I need to use a tool? Yes\n",
    "Action: the action to take, should be one of [{tool_names}]\n",
    "Action Input: the input to the action\n",
    "Observation: the result of the action\n",
    "```\n",
    "\n",
    "When you have a response to say to the Human, or if you do not need to use a tool, you MUST use the format:\n",
    "\n",
    "```\n",
    "Thought: Do I need to use a tool? No\n",
    "{ai_prefix}: [your response here]\n",
    "```\"\"\"\n",
    "\n",
    "    def parse(self, text: str) -> Union[AgentAction, AgentFinish]:\n",
    "        if self.verbose:\n",
    "            print(\"TEXT\")\n",
    "            print(text)\n",
    "            print(\"-------\")\n",
    "        regex = r\"Action: (.*?)[\\n]*Action Input: (.*)\"\n",
    "        match = re.search(regex, text)\n",
    "        if not match:\n",
    "            return AgentFinish(\n",
    "                {\"output\": text.split(f\"{self.ai_prefix}:\")[-1].strip()}, text\n",
    "            )\n",
    "        action = match.group(1)\n",
    "        action_input = match.group(2)\n",
    "        return AgentAction(action.strip(), action_input.strip(\" \").strip('\"'), text)\n",
    "\n",
    "output_parser = SalesConvoOutputParser()"
   ],
   "id": "2303ccbb3b6faa54",
   "outputs": [],
   "execution_count": 3
  },
  {
   "metadata": {
    "ExecuteTime": {
     "end_time": "2025-05-23T22:57:40.903940Z",
     "start_time": "2025-05-23T22:57:40.891191Z"
    }
   },
   "cell_type": "code",
   "source": [
    "text = \"\"\"AI:lalaei f\"\"\"\n",
    "res = output_parser.parse(text)\n",
    "print(res)"
   ],
   "id": "1a01929ed574d4cb",
   "outputs": [
    {
     "name": "stdout",
     "output_type": "stream",
     "text": [
      "return_values={'output': 'lalaei f'} log='AI:lalaei f'\n"
     ]
    }
   ],
   "execution_count": 14
  },
  {
   "metadata": {
    "ExecuteTime": {
     "end_time": "2025-05-23T22:56:12.860380Z",
     "start_time": "2025-05-23T22:56:12.838076Z"
    }
   },
   "cell_type": "code",
   "source": [
    "class CustomPromptTemplateForTools(PromptTemplate):\n",
    "\n",
    "    template: str\n",
    "    tools: list[Tool]\n",
    "\n",
    "    def format(self, **kwargs: Any) -> str:\n",
    "        kwargs = self._merge_partial_and_user_variables(**kwargs)\n",
    "        kwargs[\"tools\"] = \"\\n\".join(\n",
    "            [f\"{tool.name}: {tool.description}\" for tool in tools]\n",
    "        )\n",
    "        kwargs[\"format_instruction\"] = output_parser.get_format_instructions()\n",
    "        return self.template.format(**kwargs)\n",
    "\n",
    "prompt = CustomPromptTemplateForTools(\n",
    "    template=\"You are an AI Sales agent, sell me anything，Here are the questions you must answer:{input}\\n\\nAnd you has access to the following tools: \\n{tools} \\n {format_instruction} \\n{intermediate_steps}\",\n",
    "    tools=tools,\n",
    "    input_variables=[\"input\", \"intermediate_steps\",\"tools\"],\n",
    "    partial_variables={\"format_instruction\": output_parser.get_format_instructions()},\n",
    "    validate_template=True\n",
    ")\n",
    "# print(prompt)\n",
    "print(prompt.format(input=\"Who are you?\", intermediate_steps=[]))"
   ],
   "id": "23eb8d5a1d5e9592",
   "outputs": [
    {
     "name": "stdout",
     "output_type": "stream",
     "text": [
      "You are an AI Sales agent, sell me anything，Here are the questions you must answer:Who are you?\n",
      "\n",
      "And you has access to the following tools: \n",
      "ProductSearch: useful for when you need to answer questions about product information or services offered, availability and their costs. \n",
      " To use a tool, please use the following format:\n",
      "\n",
      "```\n",
      "Thought: Do I need to use a tool? Yes\n",
      "Action: the action to take, should be one of [{tool_names}]\n",
      "Action Input: the input to the action\n",
      "Observation: the result of the action\n",
      "```\n",
      "\n",
      "When you have a response to say to the Human, or if you do not need to use a tool, you MUST use the format:\n",
      "\n",
      "```\n",
      "Thought: Do I need to use a tool? No\n",
      "{ai_prefix}: [your response here]\n",
      "``` \n",
      "[]\n"
     ]
    }
   ],
   "execution_count": 4
  },
  {
   "metadata": {
    "ExecuteTime": {
     "end_time": "2025-05-23T22:56:32.861604Z",
     "start_time": "2025-05-23T22:56:19.378892Z"
    }
   },
   "cell_type": "code",
   "source": [
    "os.environ[\"DASHSCOPE_API_KEY\"] = 'sk-36c7f4e71d904a35afab94dc68747d48'\n",
    "llm = ChatLiteLLM(model=\"openai/qwen-max\",\n",
    "                  api_base=\"https://dashscope.aliyuncs.com/compatible-mode/v1\",\n",
    "                  api_key=os.environ.get('DASHSCOPE_API_KEY'))"
   ],
   "id": "eaa154832ff71440",
   "outputs": [
    {
     "name": "stderr",
     "output_type": "stream",
     "text": [
      "C:\\Users\\ww\\AppData\\Local\\Temp\\ipykernel_9380\\4053257069.py:2: LangChainDeprecationWarning: The class `ChatLiteLLM` was deprecated in LangChain 0.3.24 and will be removed in 1.0. An updated version of the class exists in the :class:`~langchain-litellm package and should be used instead. To use it run `pip install -U :class:`~langchain-litellm` and import as `from :class:`~langchain_litellm import ChatLiteLLM``.\n",
      "  llm = ChatLiteLLM(model=\"openai/qwen-max\",\n"
     ]
    }
   ],
   "execution_count": 5
  },
  {
   "metadata": {},
   "cell_type": "code",
   "source": [
    "llm_chain = LLMChain(llm=llm, prompt=prompt, verbose=True)\n",
    "# llm_chain = prompt | llm"
   ],
   "id": "303d711cb07028",
   "outputs": [],
   "execution_count": 25
  },
  {
   "metadata": {
    "ExecuteTime": {
     "end_time": "2025-05-23T22:20:48.480553Z",
     "start_time": "2025-05-23T22:20:42.497592Z"
    }
   },
   "cell_type": "code",
   "source": [
    "output = llm_chain.invoke({\"input\":\"Who are you?\",\"intermediate_steps\":[],\"tools\":\"\"}, return_intermediate_steps=True)\n",
    "print(output)"
   ],
   "id": "577fc4ac89d072a5",
   "outputs": [
    {
     "name": "stdout",
     "output_type": "stream",
     "text": [
      "content=\"Thought: Do I need to use a tool? No\\nQwen: Hello! I'm Qwen, your dedicated AI Sales Assistant, here to assist you with finding the perfect product or service that meets your needs. Whether it's technology, home essentials, or something unique, I can help guide you through our wide selection and provide all the information you require. How can I assist you today? Is there anything specific you're looking for?\" additional_kwargs={} response_metadata={'token_usage': Usage(completion_tokens=89, prompt_tokens=179, total_tokens=268, completion_tokens_details=None, prompt_tokens_details=PromptTokensDetailsWrapper(audio_tokens=None, cached_tokens=0, text_tokens=None, image_tokens=None)), 'model': 'openai/qwen-max', 'finish_reason': 'stop', 'model_name': 'openai/qwen-max'} id='run--7acb1e85-e37c-4d7e-b2c8-d70e7d636742-0' usage_metadata={'input_tokens': 179, 'output_tokens': 89, 'total_tokens': 268}\n"
     ]
    }
   ],
   "execution_count": 23
  },
  {
   "metadata": {
    "ExecuteTime": {
     "end_time": "2025-05-23T22:24:26.855215Z",
     "start_time": "2025-05-23T22:24:26.843565Z"
    }
   },
   "cell_type": "code",
   "source": [
    "sales_agent_with_tools = LLMSingleActionAgent(\n",
    "                llm_chain=llm_chain,\n",
    "                output_parser=output_parser,\n",
    "                stop=[\"\\nObservation:\"],\n",
    "                allowed_tools=tool_names,\n",
    "            )"
   ],
   "id": "858d8bb18760eba6",
   "outputs": [],
   "execution_count": 26
  },
  {
   "metadata": {},
   "cell_type": "code",
   "source": [
    "agent = AgentExecutor.from_agent_and_tools(\n",
    "    agent=sales_agent_with_tools,\n",
    "    tools=tools,\n",
    "    verbose=True,\n",
    ")"
   ],
   "id": "63743419449c14b0",
   "outputs": [],
   "execution_count": 27
  },
  {
   "metadata": {},
   "cell_type": "code",
   "source": [
    "inputs = {\n",
    "    \"input\":\"Can you tell me about the product B\",\n",
    "    \"tools\":\"\",\n",
    "}\n",
    "# res = agent.run(inputs)\n",
    "res = agent.invoke(inputs)\n",
    "print(res)"
   ],
   "id": "9cdbadc649872626",
   "outputs": [
    {
     "name": "stdout",
     "output_type": "stream",
     "text": [
      "\n",
      "\n",
      "\u001B[1m> Entering new AgentExecutor chain...\u001B[0m\n",
      "\n",
      "\n",
      "\u001B[1m> Entering new LLMChain chain...\u001B[0m\n",
      "Prompt after formatting:\n",
      "\u001B[32;1m\u001B[1;3mYou are an AI Sales agent, sell me anything，Here are the questions you must answer:Can you tell me about the product B\n",
      "\n",
      "And you has access to the following tools: \n",
      "ProductSearch: useful for when you need to answer questions about product information or services offered, availability and their costs. \n",
      " To use a tool, please use the following format:\n",
      "\n",
      "```\n",
      "Thought: Do I need to use a tool? Yes\n",
      "Action: the action to take, should be one of [{tool_names}]\n",
      "Action Input: the input to the action\n",
      "Observation: the result of the action\n",
      "```\n",
      "\n",
      "When you have a response to say to the Human, or if you do not need to use a tool, you MUST use the format:\n",
      "\n",
      "```\n",
      "Thought: Do I need to use a tool? No\n",
      "{ai_prefix}: [your response here]\n",
      "``` \n",
      "[]\u001B[0m\n",
      "\n",
      "\u001B[1m> Finished chain.\u001B[0m\n",
      "\u001B[32;1m\u001B[1;3mThought: Do I need to use a tool? Yes\n",
      "Action: ProductSearch\n",
      "Action Input: Information about product B, including its features, benefits, and pricing.\u001B[0m\n",
      "\n",
      "Observation:\u001B[36;1m\u001B[1;3mSearching for: Information about product B, including its features, benefits, and pricing.\u001B[0m\n",
      "\n",
      "\n",
      "\u001B[1m> Entering new LLMChain chain...\u001B[0m\n",
      "Prompt after formatting:\n",
      "\u001B[32;1m\u001B[1;3mYou are an AI Sales agent, sell me anything，Here are the questions you must answer:Can you tell me about the product B\n",
      "\n",
      "And you has access to the following tools: \n",
      "ProductSearch: useful for when you need to answer questions about product information or services offered, availability and their costs. \n",
      " To use a tool, please use the following format:\n",
      "\n",
      "```\n",
      "Thought: Do I need to use a tool? Yes\n",
      "Action: the action to take, should be one of [{tool_names}]\n",
      "Action Input: the input to the action\n",
      "Observation: the result of the action\n",
      "```\n",
      "\n",
      "When you have a response to say to the Human, or if you do not need to use a tool, you MUST use the format:\n",
      "\n",
      "```\n",
      "Thought: Do I need to use a tool? No\n",
      "{ai_prefix}: [your response here]\n",
      "``` \n",
      "[(AgentAction(tool='ProductSearch', tool_input='Information about product B, including its features, benefits, and pricing.', log='Thought: Do I need to use a tool? Yes\\nAction: ProductSearch\\nAction Input: Information about product B, including its features, benefits, and pricing.'), 'Searching for: Information about product B, including its features, benefits, and pricing.')]\u001B[0m\n"
     ]
    },
    {
     "ename": "KeyboardInterrupt",
     "evalue": "",
     "output_type": "error",
     "traceback": [
      "\u001B[1;31m---------------------------------------------------------------------------\u001B[0m",
      "\u001B[1;31mKeyboardInterrupt\u001B[0m                         Traceback (most recent call last)",
      "Cell \u001B[1;32mIn[28], line 6\u001B[0m\n\u001B[0;32m      1\u001B[0m inputs \u001B[38;5;241m=\u001B[39m {\n\u001B[0;32m      2\u001B[0m     \u001B[38;5;124m\"\u001B[39m\u001B[38;5;124minput\u001B[39m\u001B[38;5;124m\"\u001B[39m:\u001B[38;5;124m\"\u001B[39m\u001B[38;5;124mCan you tell me about the product B\u001B[39m\u001B[38;5;124m\"\u001B[39m,\n\u001B[0;32m      3\u001B[0m     \u001B[38;5;124m\"\u001B[39m\u001B[38;5;124mtools\u001B[39m\u001B[38;5;124m\"\u001B[39m:\u001B[38;5;124m\"\u001B[39m\u001B[38;5;124m\"\u001B[39m,\n\u001B[0;32m      4\u001B[0m }\n\u001B[0;32m      5\u001B[0m \u001B[38;5;66;03m# res = agent.run(inputs)\u001B[39;00m\n\u001B[1;32m----> 6\u001B[0m res \u001B[38;5;241m=\u001B[39m \u001B[43magent\u001B[49m\u001B[38;5;241;43m.\u001B[39;49m\u001B[43minvoke\u001B[49m\u001B[43m(\u001B[49m\u001B[43minputs\u001B[49m\u001B[43m)\u001B[49m\n\u001B[0;32m      7\u001B[0m \u001B[38;5;28mprint\u001B[39m(res)\n",
      "File \u001B[1;32mD:\\devtools\\Miniconda\\miniconda3-py312_25.1.1-2\\miniconda3\\envs\\SaleGPTTest\\lib\\site-packages\\langchain\\chains\\base.py:167\u001B[0m, in \u001B[0;36mChain.invoke\u001B[1;34m(self, input, config, **kwargs)\u001B[0m\n\u001B[0;32m    165\u001B[0m \u001B[38;5;28;01mexcept\u001B[39;00m \u001B[38;5;167;01mBaseException\u001B[39;00m \u001B[38;5;28;01mas\u001B[39;00m e:\n\u001B[0;32m    166\u001B[0m     run_manager\u001B[38;5;241m.\u001B[39mon_chain_error(e)\n\u001B[1;32m--> 167\u001B[0m     \u001B[38;5;28;01mraise\u001B[39;00m e\n\u001B[0;32m    168\u001B[0m run_manager\u001B[38;5;241m.\u001B[39mon_chain_end(outputs)\n\u001B[0;32m    170\u001B[0m \u001B[38;5;28;01mif\u001B[39;00m include_run_info:\n",
      "File \u001B[1;32mD:\\devtools\\Miniconda\\miniconda3-py312_25.1.1-2\\miniconda3\\envs\\SaleGPTTest\\lib\\site-packages\\langchain\\chains\\base.py:157\u001B[0m, in \u001B[0;36mChain.invoke\u001B[1;34m(self, input, config, **kwargs)\u001B[0m\n\u001B[0;32m    154\u001B[0m \u001B[38;5;28;01mtry\u001B[39;00m:\n\u001B[0;32m    155\u001B[0m     \u001B[38;5;28mself\u001B[39m\u001B[38;5;241m.\u001B[39m_validate_inputs(inputs)\n\u001B[0;32m    156\u001B[0m     outputs \u001B[38;5;241m=\u001B[39m (\n\u001B[1;32m--> 157\u001B[0m         \u001B[38;5;28;43mself\u001B[39;49m\u001B[38;5;241;43m.\u001B[39;49m\u001B[43m_call\u001B[49m\u001B[43m(\u001B[49m\u001B[43minputs\u001B[49m\u001B[43m,\u001B[49m\u001B[43m \u001B[49m\u001B[43mrun_manager\u001B[49m\u001B[38;5;241;43m=\u001B[39;49m\u001B[43mrun_manager\u001B[49m\u001B[43m)\u001B[49m\n\u001B[0;32m    158\u001B[0m         \u001B[38;5;28;01mif\u001B[39;00m new_arg_supported\n\u001B[0;32m    159\u001B[0m         \u001B[38;5;28;01melse\u001B[39;00m \u001B[38;5;28mself\u001B[39m\u001B[38;5;241m.\u001B[39m_call(inputs)\n\u001B[0;32m    160\u001B[0m     )\n\u001B[0;32m    162\u001B[0m     final_outputs: \u001B[38;5;28mdict\u001B[39m[\u001B[38;5;28mstr\u001B[39m, Any] \u001B[38;5;241m=\u001B[39m \u001B[38;5;28mself\u001B[39m\u001B[38;5;241m.\u001B[39mprep_outputs(\n\u001B[0;32m    163\u001B[0m         inputs, outputs, return_only_outputs\n\u001B[0;32m    164\u001B[0m     )\n\u001B[0;32m    165\u001B[0m \u001B[38;5;28;01mexcept\u001B[39;00m \u001B[38;5;167;01mBaseException\u001B[39;00m \u001B[38;5;28;01mas\u001B[39;00m e:\n",
      "File \u001B[1;32mD:\\devtools\\Miniconda\\miniconda3-py312_25.1.1-2\\miniconda3\\envs\\SaleGPTTest\\lib\\site-packages\\langchain\\agents\\agent.py:1620\u001B[0m, in \u001B[0;36mAgentExecutor._call\u001B[1;34m(self, inputs, run_manager)\u001B[0m\n\u001B[0;32m   1618\u001B[0m \u001B[38;5;66;03m# We now enter the agent loop (until it returns something).\u001B[39;00m\n\u001B[0;32m   1619\u001B[0m \u001B[38;5;28;01mwhile\u001B[39;00m \u001B[38;5;28mself\u001B[39m\u001B[38;5;241m.\u001B[39m_should_continue(iterations, time_elapsed):\n\u001B[1;32m-> 1620\u001B[0m     next_step_output \u001B[38;5;241m=\u001B[39m \u001B[38;5;28;43mself\u001B[39;49m\u001B[38;5;241;43m.\u001B[39;49m\u001B[43m_take_next_step\u001B[49m\u001B[43m(\u001B[49m\n\u001B[0;32m   1621\u001B[0m \u001B[43m        \u001B[49m\u001B[43mname_to_tool_map\u001B[49m\u001B[43m,\u001B[49m\n\u001B[0;32m   1622\u001B[0m \u001B[43m        \u001B[49m\u001B[43mcolor_mapping\u001B[49m\u001B[43m,\u001B[49m\n\u001B[0;32m   1623\u001B[0m \u001B[43m        \u001B[49m\u001B[43minputs\u001B[49m\u001B[43m,\u001B[49m\n\u001B[0;32m   1624\u001B[0m \u001B[43m        \u001B[49m\u001B[43mintermediate_steps\u001B[49m\u001B[43m,\u001B[49m\n\u001B[0;32m   1625\u001B[0m \u001B[43m        \u001B[49m\u001B[43mrun_manager\u001B[49m\u001B[38;5;241;43m=\u001B[39;49m\u001B[43mrun_manager\u001B[49m\u001B[43m,\u001B[49m\n\u001B[0;32m   1626\u001B[0m \u001B[43m    \u001B[49m\u001B[43m)\u001B[49m\n\u001B[0;32m   1627\u001B[0m     \u001B[38;5;28;01mif\u001B[39;00m \u001B[38;5;28misinstance\u001B[39m(next_step_output, AgentFinish):\n\u001B[0;32m   1628\u001B[0m         \u001B[38;5;28;01mreturn\u001B[39;00m \u001B[38;5;28mself\u001B[39m\u001B[38;5;241m.\u001B[39m_return(\n\u001B[0;32m   1629\u001B[0m             next_step_output, intermediate_steps, run_manager\u001B[38;5;241m=\u001B[39mrun_manager\n\u001B[0;32m   1630\u001B[0m         )\n",
      "File \u001B[1;32mD:\\devtools\\Miniconda\\miniconda3-py312_25.1.1-2\\miniconda3\\envs\\SaleGPTTest\\lib\\site-packages\\langchain\\agents\\agent.py:1326\u001B[0m, in \u001B[0;36mAgentExecutor._take_next_step\u001B[1;34m(self, name_to_tool_map, color_mapping, inputs, intermediate_steps, run_manager)\u001B[0m\n\u001B[0;32m   1317\u001B[0m \u001B[38;5;28;01mdef\u001B[39;00m\u001B[38;5;250m \u001B[39m\u001B[38;5;21m_take_next_step\u001B[39m(\n\u001B[0;32m   1318\u001B[0m     \u001B[38;5;28mself\u001B[39m,\n\u001B[0;32m   1319\u001B[0m     name_to_tool_map: \u001B[38;5;28mdict\u001B[39m[\u001B[38;5;28mstr\u001B[39m, BaseTool],\n\u001B[1;32m   (...)\u001B[0m\n\u001B[0;32m   1323\u001B[0m     run_manager: Optional[CallbackManagerForChainRun] \u001B[38;5;241m=\u001B[39m \u001B[38;5;28;01mNone\u001B[39;00m,\n\u001B[0;32m   1324\u001B[0m ) \u001B[38;5;241m-\u001B[39m\u001B[38;5;241m>\u001B[39m Union[AgentFinish, \u001B[38;5;28mlist\u001B[39m[\u001B[38;5;28mtuple\u001B[39m[AgentAction, \u001B[38;5;28mstr\u001B[39m]]]:\n\u001B[0;32m   1325\u001B[0m     \u001B[38;5;28;01mreturn\u001B[39;00m \u001B[38;5;28mself\u001B[39m\u001B[38;5;241m.\u001B[39m_consume_next_step(\n\u001B[1;32m-> 1326\u001B[0m         [\n\u001B[0;32m   1327\u001B[0m             a\n\u001B[0;32m   1328\u001B[0m             \u001B[38;5;28;01mfor\u001B[39;00m a \u001B[38;5;129;01min\u001B[39;00m \u001B[38;5;28mself\u001B[39m\u001B[38;5;241m.\u001B[39m_iter_next_step(\n\u001B[0;32m   1329\u001B[0m                 name_to_tool_map,\n\u001B[0;32m   1330\u001B[0m                 color_mapping,\n\u001B[0;32m   1331\u001B[0m                 inputs,\n\u001B[0;32m   1332\u001B[0m                 intermediate_steps,\n\u001B[0;32m   1333\u001B[0m                 run_manager,\n\u001B[0;32m   1334\u001B[0m             )\n\u001B[0;32m   1335\u001B[0m         ]\n\u001B[0;32m   1336\u001B[0m     )\n",
      "File \u001B[1;32mD:\\devtools\\Miniconda\\miniconda3-py312_25.1.1-2\\miniconda3\\envs\\SaleGPTTest\\lib\\site-packages\\langchain\\agents\\agent.py:1326\u001B[0m, in \u001B[0;36m<listcomp>\u001B[1;34m(.0)\u001B[0m\n\u001B[0;32m   1317\u001B[0m \u001B[38;5;28;01mdef\u001B[39;00m\u001B[38;5;250m \u001B[39m\u001B[38;5;21m_take_next_step\u001B[39m(\n\u001B[0;32m   1318\u001B[0m     \u001B[38;5;28mself\u001B[39m,\n\u001B[0;32m   1319\u001B[0m     name_to_tool_map: \u001B[38;5;28mdict\u001B[39m[\u001B[38;5;28mstr\u001B[39m, BaseTool],\n\u001B[1;32m   (...)\u001B[0m\n\u001B[0;32m   1323\u001B[0m     run_manager: Optional[CallbackManagerForChainRun] \u001B[38;5;241m=\u001B[39m \u001B[38;5;28;01mNone\u001B[39;00m,\n\u001B[0;32m   1324\u001B[0m ) \u001B[38;5;241m-\u001B[39m\u001B[38;5;241m>\u001B[39m Union[AgentFinish, \u001B[38;5;28mlist\u001B[39m[\u001B[38;5;28mtuple\u001B[39m[AgentAction, \u001B[38;5;28mstr\u001B[39m]]]:\n\u001B[0;32m   1325\u001B[0m     \u001B[38;5;28;01mreturn\u001B[39;00m \u001B[38;5;28mself\u001B[39m\u001B[38;5;241m.\u001B[39m_consume_next_step(\n\u001B[1;32m-> 1326\u001B[0m         [\n\u001B[0;32m   1327\u001B[0m             a\n\u001B[0;32m   1328\u001B[0m             \u001B[38;5;28;01mfor\u001B[39;00m a \u001B[38;5;129;01min\u001B[39;00m \u001B[38;5;28mself\u001B[39m\u001B[38;5;241m.\u001B[39m_iter_next_step(\n\u001B[0;32m   1329\u001B[0m                 name_to_tool_map,\n\u001B[0;32m   1330\u001B[0m                 color_mapping,\n\u001B[0;32m   1331\u001B[0m                 inputs,\n\u001B[0;32m   1332\u001B[0m                 intermediate_steps,\n\u001B[0;32m   1333\u001B[0m                 run_manager,\n\u001B[0;32m   1334\u001B[0m             )\n\u001B[0;32m   1335\u001B[0m         ]\n\u001B[0;32m   1336\u001B[0m     )\n",
      "File \u001B[1;32mD:\\devtools\\Miniconda\\miniconda3-py312_25.1.1-2\\miniconda3\\envs\\SaleGPTTest\\lib\\site-packages\\langchain\\agents\\agent.py:1354\u001B[0m, in \u001B[0;36mAgentExecutor._iter_next_step\u001B[1;34m(self, name_to_tool_map, color_mapping, inputs, intermediate_steps, run_manager)\u001B[0m\n\u001B[0;32m   1351\u001B[0m     intermediate_steps \u001B[38;5;241m=\u001B[39m \u001B[38;5;28mself\u001B[39m\u001B[38;5;241m.\u001B[39m_prepare_intermediate_steps(intermediate_steps)\n\u001B[0;32m   1353\u001B[0m     \u001B[38;5;66;03m# Call the LLM to see what to do.\u001B[39;00m\n\u001B[1;32m-> 1354\u001B[0m     output \u001B[38;5;241m=\u001B[39m \u001B[38;5;28mself\u001B[39m\u001B[38;5;241m.\u001B[39m_action_agent\u001B[38;5;241m.\u001B[39mplan(\n\u001B[0;32m   1355\u001B[0m         intermediate_steps,\n\u001B[0;32m   1356\u001B[0m         callbacks\u001B[38;5;241m=\u001B[39mrun_manager\u001B[38;5;241m.\u001B[39mget_child() \u001B[38;5;28;01mif\u001B[39;00m run_manager \u001B[38;5;28;01melse\u001B[39;00m \u001B[38;5;28;01mNone\u001B[39;00m,\n\u001B[0;32m   1357\u001B[0m         \u001B[38;5;241m*\u001B[39m\u001B[38;5;241m*\u001B[39minputs,\n\u001B[0;32m   1358\u001B[0m     )\n\u001B[0;32m   1359\u001B[0m \u001B[38;5;28;01mexcept\u001B[39;00m OutputParserException \u001B[38;5;28;01mas\u001B[39;00m e:\n\u001B[0;32m   1360\u001B[0m     \u001B[38;5;28;01mif\u001B[39;00m \u001B[38;5;28misinstance\u001B[39m(\u001B[38;5;28mself\u001B[39m\u001B[38;5;241m.\u001B[39mhandle_parsing_errors, \u001B[38;5;28mbool\u001B[39m):\n",
      "File \u001B[1;32mD:\\devtools\\Miniconda\\miniconda3-py312_25.1.1-2\\miniconda3\\envs\\SaleGPTTest\\lib\\site-packages\\langchain\\agents\\agent.py:678\u001B[0m, in \u001B[0;36mLLMSingleActionAgent.plan\u001B[1;34m(self, intermediate_steps, callbacks, **kwargs)\u001B[0m\n\u001B[0;32m    661\u001B[0m \u001B[38;5;28;01mdef\u001B[39;00m\u001B[38;5;250m \u001B[39m\u001B[38;5;21mplan\u001B[39m(\n\u001B[0;32m    662\u001B[0m     \u001B[38;5;28mself\u001B[39m,\n\u001B[0;32m    663\u001B[0m     intermediate_steps: \u001B[38;5;28mlist\u001B[39m[\u001B[38;5;28mtuple\u001B[39m[AgentAction, \u001B[38;5;28mstr\u001B[39m]],\n\u001B[0;32m    664\u001B[0m     callbacks: Callbacks \u001B[38;5;241m=\u001B[39m \u001B[38;5;28;01mNone\u001B[39;00m,\n\u001B[0;32m    665\u001B[0m     \u001B[38;5;241m*\u001B[39m\u001B[38;5;241m*\u001B[39mkwargs: Any,\n\u001B[0;32m    666\u001B[0m ) \u001B[38;5;241m-\u001B[39m\u001B[38;5;241m>\u001B[39m Union[AgentAction, AgentFinish]:\n\u001B[0;32m    667\u001B[0m \u001B[38;5;250m    \u001B[39m\u001B[38;5;124;03m\"\"\"Given input, decided what to do.\u001B[39;00m\n\u001B[0;32m    668\u001B[0m \n\u001B[0;32m    669\u001B[0m \u001B[38;5;124;03m    Args:\u001B[39;00m\n\u001B[1;32m   (...)\u001B[0m\n\u001B[0;32m    676\u001B[0m \u001B[38;5;124;03m        Action specifying what tool to use.\u001B[39;00m\n\u001B[0;32m    677\u001B[0m \u001B[38;5;124;03m    \"\"\"\u001B[39;00m\n\u001B[1;32m--> 678\u001B[0m     output \u001B[38;5;241m=\u001B[39m \u001B[38;5;28mself\u001B[39m\u001B[38;5;241m.\u001B[39mllm_chain\u001B[38;5;241m.\u001B[39mrun(\n\u001B[0;32m    679\u001B[0m         intermediate_steps\u001B[38;5;241m=\u001B[39mintermediate_steps,\n\u001B[0;32m    680\u001B[0m         stop\u001B[38;5;241m=\u001B[39m\u001B[38;5;28mself\u001B[39m\u001B[38;5;241m.\u001B[39mstop,\n\u001B[0;32m    681\u001B[0m         callbacks\u001B[38;5;241m=\u001B[39mcallbacks,\n\u001B[0;32m    682\u001B[0m         \u001B[38;5;241m*\u001B[39m\u001B[38;5;241m*\u001B[39mkwargs,\n\u001B[0;32m    683\u001B[0m     )\n\u001B[0;32m    684\u001B[0m     \u001B[38;5;28;01mreturn\u001B[39;00m \u001B[38;5;28mself\u001B[39m\u001B[38;5;241m.\u001B[39moutput_parser\u001B[38;5;241m.\u001B[39mparse(output)\n",
      "File \u001B[1;32mD:\\devtools\\Miniconda\\miniconda3-py312_25.1.1-2\\miniconda3\\envs\\SaleGPTTest\\lib\\site-packages\\langchain_core\\_api\\deprecation.py:191\u001B[0m, in \u001B[0;36mdeprecated.<locals>.deprecate.<locals>.warning_emitting_wrapper\u001B[1;34m(*args, **kwargs)\u001B[0m\n\u001B[0;32m    189\u001B[0m     warned \u001B[38;5;241m=\u001B[39m \u001B[38;5;28;01mTrue\u001B[39;00m\n\u001B[0;32m    190\u001B[0m     emit_warning()\n\u001B[1;32m--> 191\u001B[0m \u001B[38;5;28;01mreturn\u001B[39;00m wrapped(\u001B[38;5;241m*\u001B[39margs, \u001B[38;5;241m*\u001B[39m\u001B[38;5;241m*\u001B[39mkwargs)\n",
      "File \u001B[1;32mD:\\devtools\\Miniconda\\miniconda3-py312_25.1.1-2\\miniconda3\\envs\\SaleGPTTest\\lib\\site-packages\\langchain\\chains\\base.py:608\u001B[0m, in \u001B[0;36mChain.run\u001B[1;34m(self, callbacks, tags, metadata, *args, **kwargs)\u001B[0m\n\u001B[0;32m    603\u001B[0m     \u001B[38;5;28;01mreturn\u001B[39;00m \u001B[38;5;28mself\u001B[39m(args[\u001B[38;5;241m0\u001B[39m], callbacks\u001B[38;5;241m=\u001B[39mcallbacks, tags\u001B[38;5;241m=\u001B[39mtags, metadata\u001B[38;5;241m=\u001B[39mmetadata)[\n\u001B[0;32m    604\u001B[0m         _output_key\n\u001B[0;32m    605\u001B[0m     ]\n\u001B[0;32m    607\u001B[0m \u001B[38;5;28;01mif\u001B[39;00m kwargs \u001B[38;5;129;01mand\u001B[39;00m \u001B[38;5;129;01mnot\u001B[39;00m args:\n\u001B[1;32m--> 608\u001B[0m     \u001B[38;5;28;01mreturn\u001B[39;00m \u001B[38;5;28;43mself\u001B[39;49m\u001B[43m(\u001B[49m\u001B[43mkwargs\u001B[49m\u001B[43m,\u001B[49m\u001B[43m \u001B[49m\u001B[43mcallbacks\u001B[49m\u001B[38;5;241;43m=\u001B[39;49m\u001B[43mcallbacks\u001B[49m\u001B[43m,\u001B[49m\u001B[43m \u001B[49m\u001B[43mtags\u001B[49m\u001B[38;5;241;43m=\u001B[39;49m\u001B[43mtags\u001B[49m\u001B[43m,\u001B[49m\u001B[43m \u001B[49m\u001B[43mmetadata\u001B[49m\u001B[38;5;241;43m=\u001B[39;49m\u001B[43mmetadata\u001B[49m\u001B[43m)\u001B[49m[\n\u001B[0;32m    609\u001B[0m         _output_key\n\u001B[0;32m    610\u001B[0m     ]\n\u001B[0;32m    612\u001B[0m \u001B[38;5;28;01mif\u001B[39;00m \u001B[38;5;129;01mnot\u001B[39;00m kwargs \u001B[38;5;129;01mand\u001B[39;00m \u001B[38;5;129;01mnot\u001B[39;00m args:\n\u001B[0;32m    613\u001B[0m     \u001B[38;5;28;01mraise\u001B[39;00m \u001B[38;5;167;01mValueError\u001B[39;00m(\n\u001B[0;32m    614\u001B[0m         \u001B[38;5;124m\"\u001B[39m\u001B[38;5;124m`run` supported with either positional arguments or keyword arguments,\u001B[39m\u001B[38;5;124m\"\u001B[39m\n\u001B[0;32m    615\u001B[0m         \u001B[38;5;124m\"\u001B[39m\u001B[38;5;124m but none were provided.\u001B[39m\u001B[38;5;124m\"\u001B[39m\n\u001B[0;32m    616\u001B[0m     )\n",
      "File \u001B[1;32mD:\\devtools\\Miniconda\\miniconda3-py312_25.1.1-2\\miniconda3\\envs\\SaleGPTTest\\lib\\site-packages\\langchain_core\\_api\\deprecation.py:191\u001B[0m, in \u001B[0;36mdeprecated.<locals>.deprecate.<locals>.warning_emitting_wrapper\u001B[1;34m(*args, **kwargs)\u001B[0m\n\u001B[0;32m    189\u001B[0m     warned \u001B[38;5;241m=\u001B[39m \u001B[38;5;28;01mTrue\u001B[39;00m\n\u001B[0;32m    190\u001B[0m     emit_warning()\n\u001B[1;32m--> 191\u001B[0m \u001B[38;5;28;01mreturn\u001B[39;00m wrapped(\u001B[38;5;241m*\u001B[39margs, \u001B[38;5;241m*\u001B[39m\u001B[38;5;241m*\u001B[39mkwargs)\n",
      "File \u001B[1;32mD:\\devtools\\Miniconda\\miniconda3-py312_25.1.1-2\\miniconda3\\envs\\SaleGPTTest\\lib\\site-packages\\langchain\\chains\\base.py:386\u001B[0m, in \u001B[0;36mChain.__call__\u001B[1;34m(self, inputs, return_only_outputs, callbacks, tags, metadata, run_name, include_run_info)\u001B[0m\n\u001B[0;32m    354\u001B[0m \u001B[38;5;250m\u001B[39m\u001B[38;5;124;03m\"\"\"Execute the chain.\u001B[39;00m\n\u001B[0;32m    355\u001B[0m \n\u001B[0;32m    356\u001B[0m \u001B[38;5;124;03mArgs:\u001B[39;00m\n\u001B[1;32m   (...)\u001B[0m\n\u001B[0;32m    377\u001B[0m \u001B[38;5;124;03m        `Chain.output_keys`.\u001B[39;00m\n\u001B[0;32m    378\u001B[0m \u001B[38;5;124;03m\"\"\"\u001B[39;00m\n\u001B[0;32m    379\u001B[0m config \u001B[38;5;241m=\u001B[39m {\n\u001B[0;32m    380\u001B[0m     \u001B[38;5;124m\"\u001B[39m\u001B[38;5;124mcallbacks\u001B[39m\u001B[38;5;124m\"\u001B[39m: callbacks,\n\u001B[0;32m    381\u001B[0m     \u001B[38;5;124m\"\u001B[39m\u001B[38;5;124mtags\u001B[39m\u001B[38;5;124m\"\u001B[39m: tags,\n\u001B[0;32m    382\u001B[0m     \u001B[38;5;124m\"\u001B[39m\u001B[38;5;124mmetadata\u001B[39m\u001B[38;5;124m\"\u001B[39m: metadata,\n\u001B[0;32m    383\u001B[0m     \u001B[38;5;124m\"\u001B[39m\u001B[38;5;124mrun_name\u001B[39m\u001B[38;5;124m\"\u001B[39m: run_name,\n\u001B[0;32m    384\u001B[0m }\n\u001B[1;32m--> 386\u001B[0m \u001B[38;5;28;01mreturn\u001B[39;00m \u001B[38;5;28;43mself\u001B[39;49m\u001B[38;5;241;43m.\u001B[39;49m\u001B[43minvoke\u001B[49m\u001B[43m(\u001B[49m\n\u001B[0;32m    387\u001B[0m \u001B[43m    \u001B[49m\u001B[43minputs\u001B[49m\u001B[43m,\u001B[49m\n\u001B[0;32m    388\u001B[0m \u001B[43m    \u001B[49m\u001B[43mcast\u001B[49m\u001B[43m(\u001B[49m\u001B[43mRunnableConfig\u001B[49m\u001B[43m,\u001B[49m\u001B[43m \u001B[49m\u001B[43m{\u001B[49m\u001B[43mk\u001B[49m\u001B[43m:\u001B[49m\u001B[43m \u001B[49m\u001B[43mv\u001B[49m\u001B[43m \u001B[49m\u001B[38;5;28;43;01mfor\u001B[39;49;00m\u001B[43m \u001B[49m\u001B[43mk\u001B[49m\u001B[43m,\u001B[49m\u001B[43m \u001B[49m\u001B[43mv\u001B[49m\u001B[43m \u001B[49m\u001B[38;5;129;43;01min\u001B[39;49;00m\u001B[43m \u001B[49m\u001B[43mconfig\u001B[49m\u001B[38;5;241;43m.\u001B[39;49m\u001B[43mitems\u001B[49m\u001B[43m(\u001B[49m\u001B[43m)\u001B[49m\u001B[43m \u001B[49m\u001B[38;5;28;43;01mif\u001B[39;49;00m\u001B[43m \u001B[49m\u001B[43mv\u001B[49m\u001B[43m \u001B[49m\u001B[38;5;129;43;01mis\u001B[39;49;00m\u001B[43m \u001B[49m\u001B[38;5;129;43;01mnot\u001B[39;49;00m\u001B[43m \u001B[49m\u001B[38;5;28;43;01mNone\u001B[39;49;00m\u001B[43m}\u001B[49m\u001B[43m)\u001B[49m\u001B[43m,\u001B[49m\n\u001B[0;32m    389\u001B[0m \u001B[43m    \u001B[49m\u001B[43mreturn_only_outputs\u001B[49m\u001B[38;5;241;43m=\u001B[39;49m\u001B[43mreturn_only_outputs\u001B[49m\u001B[43m,\u001B[49m\n\u001B[0;32m    390\u001B[0m \u001B[43m    \u001B[49m\u001B[43minclude_run_info\u001B[49m\u001B[38;5;241;43m=\u001B[39;49m\u001B[43minclude_run_info\u001B[49m\u001B[43m,\u001B[49m\n\u001B[0;32m    391\u001B[0m \u001B[43m\u001B[49m\u001B[43m)\u001B[49m\n",
      "File \u001B[1;32mD:\\devtools\\Miniconda\\miniconda3-py312_25.1.1-2\\miniconda3\\envs\\SaleGPTTest\\lib\\site-packages\\langchain\\chains\\base.py:167\u001B[0m, in \u001B[0;36mChain.invoke\u001B[1;34m(self, input, config, **kwargs)\u001B[0m\n\u001B[0;32m    165\u001B[0m \u001B[38;5;28;01mexcept\u001B[39;00m \u001B[38;5;167;01mBaseException\u001B[39;00m \u001B[38;5;28;01mas\u001B[39;00m e:\n\u001B[0;32m    166\u001B[0m     run_manager\u001B[38;5;241m.\u001B[39mon_chain_error(e)\n\u001B[1;32m--> 167\u001B[0m     \u001B[38;5;28;01mraise\u001B[39;00m e\n\u001B[0;32m    168\u001B[0m run_manager\u001B[38;5;241m.\u001B[39mon_chain_end(outputs)\n\u001B[0;32m    170\u001B[0m \u001B[38;5;28;01mif\u001B[39;00m include_run_info:\n",
      "File \u001B[1;32mD:\\devtools\\Miniconda\\miniconda3-py312_25.1.1-2\\miniconda3\\envs\\SaleGPTTest\\lib\\site-packages\\langchain\\chains\\base.py:157\u001B[0m, in \u001B[0;36mChain.invoke\u001B[1;34m(self, input, config, **kwargs)\u001B[0m\n\u001B[0;32m    154\u001B[0m \u001B[38;5;28;01mtry\u001B[39;00m:\n\u001B[0;32m    155\u001B[0m     \u001B[38;5;28mself\u001B[39m\u001B[38;5;241m.\u001B[39m_validate_inputs(inputs)\n\u001B[0;32m    156\u001B[0m     outputs \u001B[38;5;241m=\u001B[39m (\n\u001B[1;32m--> 157\u001B[0m         \u001B[38;5;28;43mself\u001B[39;49m\u001B[38;5;241;43m.\u001B[39;49m\u001B[43m_call\u001B[49m\u001B[43m(\u001B[49m\u001B[43minputs\u001B[49m\u001B[43m,\u001B[49m\u001B[43m \u001B[49m\u001B[43mrun_manager\u001B[49m\u001B[38;5;241;43m=\u001B[39;49m\u001B[43mrun_manager\u001B[49m\u001B[43m)\u001B[49m\n\u001B[0;32m    158\u001B[0m         \u001B[38;5;28;01mif\u001B[39;00m new_arg_supported\n\u001B[0;32m    159\u001B[0m         \u001B[38;5;28;01melse\u001B[39;00m \u001B[38;5;28mself\u001B[39m\u001B[38;5;241m.\u001B[39m_call(inputs)\n\u001B[0;32m    160\u001B[0m     )\n\u001B[0;32m    162\u001B[0m     final_outputs: \u001B[38;5;28mdict\u001B[39m[\u001B[38;5;28mstr\u001B[39m, Any] \u001B[38;5;241m=\u001B[39m \u001B[38;5;28mself\u001B[39m\u001B[38;5;241m.\u001B[39mprep_outputs(\n\u001B[0;32m    163\u001B[0m         inputs, outputs, return_only_outputs\n\u001B[0;32m    164\u001B[0m     )\n\u001B[0;32m    165\u001B[0m \u001B[38;5;28;01mexcept\u001B[39;00m \u001B[38;5;167;01mBaseException\u001B[39;00m \u001B[38;5;28;01mas\u001B[39;00m e:\n",
      "File \u001B[1;32mD:\\devtools\\Miniconda\\miniconda3-py312_25.1.1-2\\miniconda3\\envs\\SaleGPTTest\\lib\\site-packages\\langchain\\chains\\llm.py:127\u001B[0m, in \u001B[0;36mLLMChain._call\u001B[1;34m(self, inputs, run_manager)\u001B[0m\n\u001B[0;32m    122\u001B[0m \u001B[38;5;28;01mdef\u001B[39;00m\u001B[38;5;250m \u001B[39m\u001B[38;5;21m_call\u001B[39m(\n\u001B[0;32m    123\u001B[0m     \u001B[38;5;28mself\u001B[39m,\n\u001B[0;32m    124\u001B[0m     inputs: \u001B[38;5;28mdict\u001B[39m[\u001B[38;5;28mstr\u001B[39m, Any],\n\u001B[0;32m    125\u001B[0m     run_manager: Optional[CallbackManagerForChainRun] \u001B[38;5;241m=\u001B[39m \u001B[38;5;28;01mNone\u001B[39;00m,\n\u001B[0;32m    126\u001B[0m ) \u001B[38;5;241m-\u001B[39m\u001B[38;5;241m>\u001B[39m \u001B[38;5;28mdict\u001B[39m[\u001B[38;5;28mstr\u001B[39m, \u001B[38;5;28mstr\u001B[39m]:\n\u001B[1;32m--> 127\u001B[0m     response \u001B[38;5;241m=\u001B[39m \u001B[38;5;28;43mself\u001B[39;49m\u001B[38;5;241;43m.\u001B[39;49m\u001B[43mgenerate\u001B[49m\u001B[43m(\u001B[49m\u001B[43m[\u001B[49m\u001B[43minputs\u001B[49m\u001B[43m]\u001B[49m\u001B[43m,\u001B[49m\u001B[43m \u001B[49m\u001B[43mrun_manager\u001B[49m\u001B[38;5;241;43m=\u001B[39;49m\u001B[43mrun_manager\u001B[49m\u001B[43m)\u001B[49m\n\u001B[0;32m    128\u001B[0m     \u001B[38;5;28;01mreturn\u001B[39;00m \u001B[38;5;28mself\u001B[39m\u001B[38;5;241m.\u001B[39mcreate_outputs(response)[\u001B[38;5;241m0\u001B[39m]\n",
      "File \u001B[1;32mD:\\devtools\\Miniconda\\miniconda3-py312_25.1.1-2\\miniconda3\\envs\\SaleGPTTest\\lib\\site-packages\\langchain\\chains\\llm.py:139\u001B[0m, in \u001B[0;36mLLMChain.generate\u001B[1;34m(self, input_list, run_manager)\u001B[0m\n\u001B[0;32m    137\u001B[0m callbacks \u001B[38;5;241m=\u001B[39m run_manager\u001B[38;5;241m.\u001B[39mget_child() \u001B[38;5;28;01mif\u001B[39;00m run_manager \u001B[38;5;28;01melse\u001B[39;00m \u001B[38;5;28;01mNone\u001B[39;00m\n\u001B[0;32m    138\u001B[0m \u001B[38;5;28;01mif\u001B[39;00m \u001B[38;5;28misinstance\u001B[39m(\u001B[38;5;28mself\u001B[39m\u001B[38;5;241m.\u001B[39mllm, BaseLanguageModel):\n\u001B[1;32m--> 139\u001B[0m     \u001B[38;5;28;01mreturn\u001B[39;00m \u001B[38;5;28mself\u001B[39m\u001B[38;5;241m.\u001B[39mllm\u001B[38;5;241m.\u001B[39mgenerate_prompt(\n\u001B[0;32m    140\u001B[0m         prompts,\n\u001B[0;32m    141\u001B[0m         stop,\n\u001B[0;32m    142\u001B[0m         callbacks\u001B[38;5;241m=\u001B[39mcallbacks,\n\u001B[0;32m    143\u001B[0m         \u001B[38;5;241m*\u001B[39m\u001B[38;5;241m*\u001B[39m\u001B[38;5;28mself\u001B[39m\u001B[38;5;241m.\u001B[39mllm_kwargs,\n\u001B[0;32m    144\u001B[0m     )\n\u001B[0;32m    145\u001B[0m \u001B[38;5;28;01melse\u001B[39;00m:\n\u001B[0;32m    146\u001B[0m     results \u001B[38;5;241m=\u001B[39m \u001B[38;5;28mself\u001B[39m\u001B[38;5;241m.\u001B[39mllm\u001B[38;5;241m.\u001B[39mbind(stop\u001B[38;5;241m=\u001B[39mstop, \u001B[38;5;241m*\u001B[39m\u001B[38;5;241m*\u001B[39m\u001B[38;5;28mself\u001B[39m\u001B[38;5;241m.\u001B[39mllm_kwargs)\u001B[38;5;241m.\u001B[39mbatch(\n\u001B[0;32m    147\u001B[0m         cast(\u001B[38;5;28mlist\u001B[39m, prompts), {\u001B[38;5;124m\"\u001B[39m\u001B[38;5;124mcallbacks\u001B[39m\u001B[38;5;124m\"\u001B[39m: callbacks}\n\u001B[0;32m    148\u001B[0m     )\n",
      "File \u001B[1;32mD:\\devtools\\Miniconda\\miniconda3-py312_25.1.1-2\\miniconda3\\envs\\SaleGPTTest\\lib\\site-packages\\langchain_core\\language_models\\chat_models.py:956\u001B[0m, in \u001B[0;36mBaseChatModel.generate_prompt\u001B[1;34m(self, prompts, stop, callbacks, **kwargs)\u001B[0m\n\u001B[0;32m    947\u001B[0m \u001B[38;5;129m@override\u001B[39m\n\u001B[0;32m    948\u001B[0m \u001B[38;5;28;01mdef\u001B[39;00m\u001B[38;5;250m \u001B[39m\u001B[38;5;21mgenerate_prompt\u001B[39m(\n\u001B[0;32m    949\u001B[0m     \u001B[38;5;28mself\u001B[39m,\n\u001B[1;32m   (...)\u001B[0m\n\u001B[0;32m    953\u001B[0m     \u001B[38;5;241m*\u001B[39m\u001B[38;5;241m*\u001B[39mkwargs: Any,\n\u001B[0;32m    954\u001B[0m ) \u001B[38;5;241m-\u001B[39m\u001B[38;5;241m>\u001B[39m LLMResult:\n\u001B[0;32m    955\u001B[0m     prompt_messages \u001B[38;5;241m=\u001B[39m [p\u001B[38;5;241m.\u001B[39mto_messages() \u001B[38;5;28;01mfor\u001B[39;00m p \u001B[38;5;129;01min\u001B[39;00m prompts]\n\u001B[1;32m--> 956\u001B[0m     \u001B[38;5;28;01mreturn\u001B[39;00m \u001B[38;5;28mself\u001B[39m\u001B[38;5;241m.\u001B[39mgenerate(prompt_messages, stop\u001B[38;5;241m=\u001B[39mstop, callbacks\u001B[38;5;241m=\u001B[39mcallbacks, \u001B[38;5;241m*\u001B[39m\u001B[38;5;241m*\u001B[39mkwargs)\n",
      "File \u001B[1;32mD:\\devtools\\Miniconda\\miniconda3-py312_25.1.1-2\\miniconda3\\envs\\SaleGPTTest\\lib\\site-packages\\langchain_core\\language_models\\chat_models.py:759\u001B[0m, in \u001B[0;36mBaseChatModel.generate\u001B[1;34m(self, messages, stop, callbacks, tags, metadata, run_name, run_id, **kwargs)\u001B[0m\n\u001B[0;32m    747\u001B[0m callback_manager \u001B[38;5;241m=\u001B[39m CallbackManager\u001B[38;5;241m.\u001B[39mconfigure(\n\u001B[0;32m    748\u001B[0m     callbacks,\n\u001B[0;32m    749\u001B[0m     \u001B[38;5;28mself\u001B[39m\u001B[38;5;241m.\u001B[39mcallbacks,\n\u001B[1;32m   (...)\u001B[0m\n\u001B[0;32m    754\u001B[0m     \u001B[38;5;28mself\u001B[39m\u001B[38;5;241m.\u001B[39mmetadata,\n\u001B[0;32m    755\u001B[0m )\n\u001B[0;32m    756\u001B[0m messages_to_trace \u001B[38;5;241m=\u001B[39m [\n\u001B[0;32m    757\u001B[0m     _format_for_tracing(message_list) \u001B[38;5;28;01mfor\u001B[39;00m message_list \u001B[38;5;129;01min\u001B[39;00m messages\n\u001B[0;32m    758\u001B[0m ]\n\u001B[1;32m--> 759\u001B[0m run_managers \u001B[38;5;241m=\u001B[39m \u001B[43mcallback_manager\u001B[49m\u001B[38;5;241;43m.\u001B[39;49m\u001B[43mon_chat_model_start\u001B[49m\u001B[43m(\u001B[49m\n\u001B[0;32m    760\u001B[0m \u001B[43m    \u001B[49m\u001B[38;5;28;43mself\u001B[39;49m\u001B[38;5;241;43m.\u001B[39;49m\u001B[43m_serialized\u001B[49m\u001B[43m,\u001B[49m\n\u001B[0;32m    761\u001B[0m \u001B[43m    \u001B[49m\u001B[43mmessages_to_trace\u001B[49m\u001B[43m,\u001B[49m\n\u001B[0;32m    762\u001B[0m \u001B[43m    \u001B[49m\u001B[43minvocation_params\u001B[49m\u001B[38;5;241;43m=\u001B[39;49m\u001B[43mparams\u001B[49m\u001B[43m,\u001B[49m\n\u001B[0;32m    763\u001B[0m \u001B[43m    \u001B[49m\u001B[43moptions\u001B[49m\u001B[38;5;241;43m=\u001B[39;49m\u001B[43moptions\u001B[49m\u001B[43m,\u001B[49m\n\u001B[0;32m    764\u001B[0m \u001B[43m    \u001B[49m\u001B[43mname\u001B[49m\u001B[38;5;241;43m=\u001B[39;49m\u001B[43mrun_name\u001B[49m\u001B[43m,\u001B[49m\n\u001B[0;32m    765\u001B[0m \u001B[43m    \u001B[49m\u001B[43mrun_id\u001B[49m\u001B[38;5;241;43m=\u001B[39;49m\u001B[43mrun_id\u001B[49m\u001B[43m,\u001B[49m\n\u001B[0;32m    766\u001B[0m \u001B[43m    \u001B[49m\u001B[43mbatch_size\u001B[49m\u001B[38;5;241;43m=\u001B[39;49m\u001B[38;5;28;43mlen\u001B[39;49m\u001B[43m(\u001B[49m\u001B[43mmessages\u001B[49m\u001B[43m)\u001B[49m\u001B[43m,\u001B[49m\n\u001B[0;32m    767\u001B[0m \u001B[43m\u001B[49m\u001B[43m)\u001B[49m\n\u001B[0;32m    768\u001B[0m results \u001B[38;5;241m=\u001B[39m []\n\u001B[0;32m    769\u001B[0m input_messages \u001B[38;5;241m=\u001B[39m [\n\u001B[0;32m    770\u001B[0m     _normalize_messages(message_list) \u001B[38;5;28;01mfor\u001B[39;00m message_list \u001B[38;5;129;01min\u001B[39;00m messages\n\u001B[0;32m    771\u001B[0m ]\n",
      "File \u001B[1;32mD:\\devtools\\Miniconda\\miniconda3-py312_25.1.1-2\\miniconda3\\envs\\SaleGPTTest\\lib\\site-packages\\langchain_core\\callbacks\\manager.py:1378\u001B[0m, in \u001B[0;36mCallbackManager.on_chat_model_start\u001B[1;34m(self, serialized, messages, run_id, **kwargs)\u001B[0m\n\u001B[0;32m   1376\u001B[0m     \u001B[38;5;28;01melse\u001B[39;00m:\n\u001B[0;32m   1377\u001B[0m         run_id_ \u001B[38;5;241m=\u001B[39m uuid\u001B[38;5;241m.\u001B[39muuid4()\n\u001B[1;32m-> 1378\u001B[0m     handle_event(\n\u001B[0;32m   1379\u001B[0m         \u001B[38;5;28mself\u001B[39m\u001B[38;5;241m.\u001B[39mhandlers,\n\u001B[0;32m   1380\u001B[0m         \u001B[38;5;124m\"\u001B[39m\u001B[38;5;124mon_chat_model_start\u001B[39m\u001B[38;5;124m\"\u001B[39m,\n\u001B[0;32m   1381\u001B[0m         \u001B[38;5;124m\"\u001B[39m\u001B[38;5;124mignore_chat_model\u001B[39m\u001B[38;5;124m\"\u001B[39m,\n\u001B[0;32m   1382\u001B[0m         serialized,\n\u001B[0;32m   1383\u001B[0m         [message_list],\n\u001B[0;32m   1384\u001B[0m         run_id\u001B[38;5;241m=\u001B[39mrun_id_,\n\u001B[0;32m   1385\u001B[0m         parent_run_id\u001B[38;5;241m=\u001B[39m\u001B[38;5;28mself\u001B[39m\u001B[38;5;241m.\u001B[39mparent_run_id,\n\u001B[0;32m   1386\u001B[0m         tags\u001B[38;5;241m=\u001B[39m\u001B[38;5;28mself\u001B[39m\u001B[38;5;241m.\u001B[39mtags,\n\u001B[0;32m   1387\u001B[0m         metadata\u001B[38;5;241m=\u001B[39m\u001B[38;5;28mself\u001B[39m\u001B[38;5;241m.\u001B[39mmetadata,\n\u001B[0;32m   1388\u001B[0m         \u001B[38;5;241m*\u001B[39m\u001B[38;5;241m*\u001B[39mkwargs,\n\u001B[0;32m   1389\u001B[0m     )\n\u001B[0;32m   1391\u001B[0m     managers\u001B[38;5;241m.\u001B[39mappend(\n\u001B[0;32m   1392\u001B[0m         CallbackManagerForLLMRun(\n\u001B[0;32m   1393\u001B[0m             run_id\u001B[38;5;241m=\u001B[39mrun_id_,\n\u001B[1;32m   (...)\u001B[0m\n\u001B[0;32m   1401\u001B[0m         )\n\u001B[0;32m   1402\u001B[0m     )\n\u001B[0;32m   1404\u001B[0m \u001B[38;5;28;01mreturn\u001B[39;00m managers\n",
      "File \u001B[1;32mD:\\devtools\\Miniconda\\miniconda3-py312_25.1.1-2\\miniconda3\\envs\\SaleGPTTest\\lib\\site-packages\\langchain_core\\callbacks\\manager.py:272\u001B[0m, in \u001B[0;36mhandle_event\u001B[1;34m(handlers, event_name, ignore_condition_name, *args, **kwargs)\u001B[0m\n\u001B[0;32m    268\u001B[0m \u001B[38;5;28;01mtry\u001B[39;00m:\n\u001B[0;32m    269\u001B[0m     \u001B[38;5;28;01mif\u001B[39;00m ignore_condition_name \u001B[38;5;129;01mis\u001B[39;00m \u001B[38;5;28;01mNone\u001B[39;00m \u001B[38;5;129;01mor\u001B[39;00m \u001B[38;5;129;01mnot\u001B[39;00m \u001B[38;5;28mgetattr\u001B[39m(\n\u001B[0;32m    270\u001B[0m         handler, ignore_condition_name\n\u001B[0;32m    271\u001B[0m     ):\n\u001B[1;32m--> 272\u001B[0m         event \u001B[38;5;241m=\u001B[39m \u001B[38;5;28mgetattr\u001B[39m(handler, event_name)(\u001B[38;5;241m*\u001B[39margs, \u001B[38;5;241m*\u001B[39m\u001B[38;5;241m*\u001B[39mkwargs)\n\u001B[0;32m    273\u001B[0m         \u001B[38;5;28;01mif\u001B[39;00m asyncio\u001B[38;5;241m.\u001B[39miscoroutine(event):\n\u001B[0;32m    274\u001B[0m             coros\u001B[38;5;241m.\u001B[39mappend(event)\n",
      "File \u001B[1;32mD:\\devtools\\Miniconda\\miniconda3-py312_25.1.1-2\\miniconda3\\envs\\SaleGPTTest\\lib\\site-packages\\langchain_core\\tracers\\langchain.py:172\u001B[0m, in \u001B[0;36mLangChainTracer.on_chat_model_start\u001B[1;34m(self, serialized, messages, run_id, tags, parent_run_id, metadata, name, **kwargs)\u001B[0m\n\u001B[0;32m    159\u001B[0m chat_model_run \u001B[38;5;241m=\u001B[39m Run(\n\u001B[0;32m    160\u001B[0m     \u001B[38;5;28mid\u001B[39m\u001B[38;5;241m=\u001B[39mrun_id,\n\u001B[0;32m    161\u001B[0m     parent_run_id\u001B[38;5;241m=\u001B[39mparent_run_id,\n\u001B[1;32m   (...)\u001B[0m\n\u001B[0;32m    169\u001B[0m     name\u001B[38;5;241m=\u001B[39mname,  \u001B[38;5;66;03m# type: ignore[arg-type]\u001B[39;00m\n\u001B[0;32m    170\u001B[0m )\n\u001B[0;32m    171\u001B[0m \u001B[38;5;28mself\u001B[39m\u001B[38;5;241m.\u001B[39m_start_trace(chat_model_run)\n\u001B[1;32m--> 172\u001B[0m \u001B[38;5;28;43mself\u001B[39;49m\u001B[38;5;241;43m.\u001B[39;49m\u001B[43m_on_chat_model_start\u001B[49m\u001B[43m(\u001B[49m\u001B[43mchat_model_run\u001B[49m\u001B[43m)\u001B[49m\n\u001B[0;32m    173\u001B[0m \u001B[38;5;28;01mreturn\u001B[39;00m chat_model_run\n",
      "File \u001B[1;32mD:\\devtools\\Miniconda\\miniconda3-py312_25.1.1-2\\miniconda3\\envs\\SaleGPTTest\\lib\\site-packages\\langchain_core\\tracers\\langchain.py:277\u001B[0m, in \u001B[0;36mLangChainTracer._on_chat_model_start\u001B[1;34m(self, run)\u001B[0m\n\u001B[0;32m    275\u001B[0m \u001B[38;5;28;01mif\u001B[39;00m run\u001B[38;5;241m.\u001B[39mparent_run_id \u001B[38;5;129;01mis\u001B[39;00m \u001B[38;5;28;01mNone\u001B[39;00m:\n\u001B[0;32m    276\u001B[0m     run\u001B[38;5;241m.\u001B[39mreference_example_id \u001B[38;5;241m=\u001B[39m \u001B[38;5;28mself\u001B[39m\u001B[38;5;241m.\u001B[39mexample_id\n\u001B[1;32m--> 277\u001B[0m \u001B[38;5;28;43mself\u001B[39;49m\u001B[38;5;241;43m.\u001B[39;49m\u001B[43m_persist_run_single\u001B[49m\u001B[43m(\u001B[49m\u001B[43mrun\u001B[49m\u001B[43m)\u001B[49m\n",
      "File \u001B[1;32mD:\\devtools\\Miniconda\\miniconda3-py312_25.1.1-2\\miniconda3\\envs\\SaleGPTTest\\lib\\site-packages\\langchain_core\\tracers\\langchain.py:232\u001B[0m, in \u001B[0;36mLangChainTracer._persist_run_single\u001B[1;34m(self, run)\u001B[0m\n\u001B[0;32m    230\u001B[0m         inputs_is_truthy \u001B[38;5;241m=\u001B[39m \u001B[38;5;28;01mFalse\u001B[39;00m\n\u001B[0;32m    231\u001B[0m     run\u001B[38;5;241m.\u001B[39mextra[\u001B[38;5;124m\"\u001B[39m\u001B[38;5;124minputs_is_truthy\u001B[39m\u001B[38;5;124m\"\u001B[39m] \u001B[38;5;241m=\u001B[39m inputs_is_truthy\n\u001B[1;32m--> 232\u001B[0m     \u001B[38;5;28mself\u001B[39m\u001B[38;5;241m.\u001B[39mclient\u001B[38;5;241m.\u001B[39mcreate_run(\u001B[38;5;241m*\u001B[39m\u001B[38;5;241m*\u001B[39mrun_dict, project_name\u001B[38;5;241m=\u001B[39m\u001B[38;5;28mself\u001B[39m\u001B[38;5;241m.\u001B[39mproject_name)\n\u001B[0;32m    233\u001B[0m \u001B[38;5;28;01mexcept\u001B[39;00m \u001B[38;5;167;01mException\u001B[39;00m \u001B[38;5;28;01mas\u001B[39;00m e:\n\u001B[0;32m    234\u001B[0m     \u001B[38;5;66;03m# Errors are swallowed by the thread executor so we need to log them here\u001B[39;00m\n\u001B[0;32m    235\u001B[0m     log_error_once(\u001B[38;5;124m\"\u001B[39m\u001B[38;5;124mpost\u001B[39m\u001B[38;5;124m\"\u001B[39m, e)\n",
      "File \u001B[1;32mD:\\devtools\\Miniconda\\miniconda3-py312_25.1.1-2\\miniconda3\\envs\\SaleGPTTest\\lib\\site-packages\\langsmith\\client.py:1406\u001B[0m, in \u001B[0;36mClient.create_run\u001B[1;34m(self, name, inputs, run_type, project_name, revision_id, dangerously_allow_filesystem, **kwargs)\u001B[0m\n\u001B[0;32m   1400\u001B[0m logger\u001B[38;5;241m.\u001B[39mlog(\n\u001B[0;32m   1401\u001B[0m     \u001B[38;5;241m5\u001B[39m,\n\u001B[0;32m   1402\u001B[0m     \u001B[38;5;124m\"\u001B[39m\u001B[38;5;124mAdding compressed multipart to queue with context: \u001B[39m\u001B[38;5;132;01m%s\u001B[39;00m\u001B[38;5;124m\"\u001B[39m,\n\u001B[0;32m   1403\u001B[0m     multipart_form\u001B[38;5;241m.\u001B[39mcontext,\n\u001B[0;32m   1404\u001B[0m )\n\u001B[0;32m   1405\u001B[0m \u001B[38;5;28;01mwith\u001B[39;00m \u001B[38;5;28mself\u001B[39m\u001B[38;5;241m.\u001B[39mcompressed_traces\u001B[38;5;241m.\u001B[39mlock:\n\u001B[1;32m-> 1406\u001B[0m     \u001B[43mcompress_multipart_parts_and_context\u001B[49m\u001B[43m(\u001B[49m\n\u001B[0;32m   1407\u001B[0m \u001B[43m        \u001B[49m\u001B[43mmultipart_form\u001B[49m\u001B[43m,\u001B[49m\n\u001B[0;32m   1408\u001B[0m \u001B[43m        \u001B[49m\u001B[38;5;28;43mself\u001B[39;49m\u001B[38;5;241;43m.\u001B[39;49m\u001B[43mcompressed_traces\u001B[49m\u001B[43m,\u001B[49m\n\u001B[0;32m   1409\u001B[0m \u001B[43m        \u001B[49m\u001B[43m_BOUNDARY\u001B[49m\u001B[43m,\u001B[49m\n\u001B[0;32m   1410\u001B[0m \u001B[43m    \u001B[49m\u001B[43m)\u001B[49m\n\u001B[0;32m   1411\u001B[0m     \u001B[38;5;28mself\u001B[39m\u001B[38;5;241m.\u001B[39mcompressed_traces\u001B[38;5;241m.\u001B[39mtrace_count \u001B[38;5;241m+\u001B[39m\u001B[38;5;241m=\u001B[39m \u001B[38;5;241m1\u001B[39m\n\u001B[0;32m   1412\u001B[0m     \u001B[38;5;28mself\u001B[39m\u001B[38;5;241m.\u001B[39m_data_available_event\u001B[38;5;241m.\u001B[39mset()\n",
      "File \u001B[1;32mD:\\devtools\\Miniconda\\miniconda3-py312_25.1.1-2\\miniconda3\\envs\\SaleGPTTest\\lib\\site-packages\\langsmith\\_internal\\_operations.py:320\u001B[0m, in \u001B[0;36mcompress_multipart_parts_and_context\u001B[1;34m(parts_and_context, compressed_traces, boundary)\u001B[0m\n\u001B[0;32m    309\u001B[0m         header_parts\u001B[38;5;241m.\u001B[39mextend(\n\u001B[0;32m    310\u001B[0m             [\n\u001B[0;32m    311\u001B[0m                 \u001B[38;5;124mf\u001B[39m\u001B[38;5;124m\"\u001B[39m\u001B[38;5;130;01m\\r\u001B[39;00m\u001B[38;5;130;01m\\n\u001B[39;00m\u001B[38;5;124mContent-Type: \u001B[39m\u001B[38;5;132;01m{\u001B[39;00mcontent_type\u001B[38;5;132;01m}\u001B[39;00m\u001B[38;5;130;01m\\r\u001B[39;00m\u001B[38;5;130;01m\\n\u001B[39;00m\u001B[38;5;124m\"\u001B[39m,\n\u001B[1;32m   (...)\u001B[0m\n\u001B[0;32m    314\u001B[0m             ]\n\u001B[0;32m    315\u001B[0m         )\n\u001B[0;32m    317\u001B[0m         \u001B[38;5;28;01myield\u001B[39;00m (\u001B[38;5;124m\"\u001B[39m\u001B[38;5;124m\"\u001B[39m\u001B[38;5;241m.\u001B[39mjoin(header_parts)\u001B[38;5;241m.\u001B[39mencode(), data)\n\u001B[1;32m--> 320\u001B[0m \u001B[38;5;28;01mdef\u001B[39;00m\u001B[38;5;250m \u001B[39m\u001B[38;5;21mcompress_multipart_parts_and_context\u001B[39m(\n\u001B[0;32m    321\u001B[0m     parts_and_context: MultipartPartsAndContext,\n\u001B[0;32m    322\u001B[0m     compressed_traces: CompressedTraces,\n\u001B[0;32m    323\u001B[0m     boundary: \u001B[38;5;28mstr\u001B[39m,\n\u001B[0;32m    324\u001B[0m ) \u001B[38;5;241m-\u001B[39m\u001B[38;5;241m>\u001B[39m \u001B[38;5;28;01mNone\u001B[39;00m:\n\u001B[0;32m    325\u001B[0m     \u001B[38;5;28;01mfor\u001B[39;00m headers, data \u001B[38;5;129;01min\u001B[39;00m encode_multipart_parts_and_context(\n\u001B[0;32m    326\u001B[0m         parts_and_context, boundary\n\u001B[0;32m    327\u001B[0m     ):\n\u001B[0;32m    328\u001B[0m         compressed_traces\u001B[38;5;241m.\u001B[39mcompressor_writer\u001B[38;5;241m.\u001B[39mwrite(headers)\n",
      "\u001B[1;31mKeyboardInterrupt\u001B[0m: "
     ]
    }
   ],
   "execution_count": 28
  },
  {
   "metadata": {
    "ExecuteTime": {
     "end_time": "2025-05-23T09:44:19.639544Z",
     "start_time": "2025-05-23T09:44:19.615984Z"
    }
   },
   "cell_type": "code",
   "source": [
    "# Define template\n",
    "template = \"What are the capitals of {country1} and {country2}, respectively?\"\n",
    "\n",
    "# Create a prompt template with `PromptTemplate` object\n",
    "prompt = PromptTemplate(\n",
    "    template=template,\n",
    "    input_variables=[\"country1\"],\n",
    "    partial_variables={\n",
    "        \"country2\": \"United States of America\"  # Pass `partial_variables` in dictionary form\n",
    "    },\n",
    "    validate_template=True\n",
    ")\n",
    "# print(prompt)\n",
    "formatted_prompt = prompt.format(country1=\"France\")\n",
    "print(formatted_prompt)"
   ],
   "id": "ee0dc23a16fd6c6a",
   "outputs": [
    {
     "name": "stdout",
     "output_type": "stream",
     "text": [
      "What are the capitals of France and United States of America, respectively?\n"
     ]
    }
   ],
   "execution_count": 92
  }
 ],
 "metadata": {
  "kernelspec": {
   "display_name": "Python 3",
   "language": "python",
   "name": "python3"
  },
  "language_info": {
   "codemirror_mode": {
    "name": "ipython",
    "version": 2
   },
   "file_extension": ".py",
   "mimetype": "text/x-python",
   "name": "python",
   "nbconvert_exporter": "python",
   "pygments_lexer": "ipython2",
   "version": "2.7.6"
  }
 },
 "nbformat": 4,
 "nbformat_minor": 5
}
