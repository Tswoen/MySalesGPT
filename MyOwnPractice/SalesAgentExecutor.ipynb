{
 "cells": [
  {
   "cell_type": "code",
   "id": "initial_id",
   "metadata": {
    "collapsed": true,
    "ExecuteTime": {
     "end_time": "2025-05-22T02:00:51.021833Z",
     "start_time": "2025-05-22T02:00:51.007395Z"
    }
   },
   "source": [
    "import os\n",
    "from typing import Any, List\n",
    "\n",
    "from langchain_community.chat_models import ChatLiteLLM\n",
    "from langchain_core.agents import AgentAction, AgentFinish\n",
    "from langchain_core.output_parsers import BaseOutputParser\n",
    "from langchain_core.output_parsers.base import T\n",
    "from langchain_core.prompts import PromptTemplate\n",
    "from langchain.chains import LLMChain\n",
    "from langchain.agents import Tool\n",
    "\n",
    "from langchain.agents.agent import AgentOutputParser"
   ],
   "outputs": [],
   "execution_count": 9
  },
  {
   "metadata": {
    "ExecuteTime": {
     "end_time": "2025-05-22T01:10:30.315501Z",
     "start_time": "2025-05-22T01:10:30.300771Z"
    }
   },
   "cell_type": "code",
   "source": [
    "def search(query):\n",
    "    # This function should implement the logic to search for products\n",
    "    # For now, it just returns a placeholder response\n",
    "    return f\"Searching for: {query}\"\n",
    "\n",
    "tools = [\n",
    "    Tool(\n",
    "            name=\"ProductSearch\",\n",
    "            func=search,\n",
    "            description=\"useful for when you need to answer questions about product information or services offered, availability and their costs.\",\n",
    "        )\n",
    "]"
   ],
   "id": "d1cc72f279a22e59",
   "outputs": [],
   "execution_count": 3
  },
  {
   "metadata": {
    "ExecuteTime": {
     "end_time": "2025-05-22T01:14:32.249871Z",
     "start_time": "2025-05-22T01:14:32.235492Z"
    }
   },
   "cell_type": "code",
   "source": [
    "class CustomPromptTemplateForTools(PromptTemplate):\n",
    "\n",
    "    template: str\n",
    "    tools: list[Tool]\n",
    "\n",
    "    def format(self, **kwargs: Any) -> str:\n",
    "        kwargs[\"tools\"] = \"\\n\".join(\n",
    "            [f\"{tool.name}: {tool.description}\" for tool in tools]\n",
    "        )\n",
    "        return self.template.format(**kwargs)\n",
    "\n",
    "prompt = CustomPromptTemplateForTools(\n",
    "    template=\"You are an AI Sales agent, sell me anything，Here are the questions you must answer:{input}\\n\\nAnd you has access to the following tools: \\n{tools} \\n{intermediate_steps}\",\n",
    "    tools=tools,\n",
    "    input_variables=[\"input\", \"intermediate_steps\"],\n",
    ")\n",
    "print(prompt.format(input=\"Who are you?\", intermediate_steps=[]))"
   ],
   "id": "23eb8d5a1d5e9592",
   "outputs": [
    {
     "name": "stdout",
     "output_type": "stream",
     "text": [
      "You are an AI Sales agent, sell me anything，Here are the questions you must answer:Who are you?\n",
      "\n",
      "And you has access to the following tools: \n",
      "ProductSearch: useful for when you need to answer questions about product information or services offered, availability and their costs. \n",
      "[]\n"
     ]
    }
   ],
   "execution_count": 5
  },
  {
   "metadata": {},
   "cell_type": "code",
   "outputs": [],
   "execution_count": null,
   "source": [
    "os.environ[\"DASHSCOPE_API_KEY\"] = 'sk-36c7f4e71d904a35afab94dc68747d48'\n",
    "llm = ChatLiteLLM(model=\"qwen-max\",\n",
    "                  api_base=\"https://dashscope.aliyuncs.com/compatible-mode/v1\",\n",
    "                  api_key=os.environ.get('DASHSCOPE_API_KEY'))"
   ],
   "id": "eaa154832ff71440"
  },
  {
   "metadata": {},
   "cell_type": "code",
   "outputs": [],
   "execution_count": null,
   "source": "llm_chain = LLMChain(llm=llm, prompt=prompt, verbose=True)",
   "id": "303d711cb07028"
  },
  {
   "metadata": {
    "ExecuteTime": {
     "end_time": "2025-05-22T02:01:53.462696Z",
     "start_time": "2025-05-22T02:01:53.445068Z"
    }
   },
   "cell_type": "code",
   "source": [
    "class SalesConvoOutputParser(BaseOutputParser):\n",
    "\n",
    "    def parse(self, text: str) -> List[str]:\n",
    "        # This function should implement the logic to parse the output\n",
    "        # For now, it just returns the text as a list\n",
    "        return text.split(\",\")\n",
    "\n",
    "\n",
    "\n",
    "output_parser = SalesConvoOutputParser()\n",
    "outRest = output_parser.invoke(input=\"Hello, my name is John\")\n",
    "print(outRest)"
   ],
   "id": "7dcd5a848e7ab4ab",
   "outputs": [
    {
     "name": "stdout",
     "output_type": "stream",
     "text": [
      "['Hello', ' my name is John']\n"
     ]
    }
   ],
   "execution_count": 13
  },
  {
   "metadata": {},
   "cell_type": "code",
   "outputs": [],
   "execution_count": null,
   "source": [
    "sales_agent_with_tools = LLMSingleActionAgent(\n",
    "                llm_chain=llm_chain,\n",
    "                output_parser=output_parser,\n",
    "                stop=[\"\\nObservation:\"],\n",
    "                allowed_tools=tool_names,\n",
    "            )"
   ],
   "id": "858d8bb18760eba6"
  },
  {
   "metadata": {},
   "cell_type": "code",
   "outputs": [],
   "execution_count": null,
   "source": "",
   "id": "e49a0f255da54b6f"
  }
 ],
 "metadata": {
  "kernelspec": {
   "display_name": "Python 3",
   "language": "python",
   "name": "python3"
  },
  "language_info": {
   "codemirror_mode": {
    "name": "ipython",
    "version": 2
   },
   "file_extension": ".py",
   "mimetype": "text/x-python",
   "name": "python",
   "nbconvert_exporter": "python",
   "pygments_lexer": "ipython2",
   "version": "2.7.6"
  }
 },
 "nbformat": 4,
 "nbformat_minor": 5
}
