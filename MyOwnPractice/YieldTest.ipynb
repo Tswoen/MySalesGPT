{
 "cells": [
  {
   "cell_type": "code",
   "id": "initial_id",
   "metadata": {
    "collapsed": true,
    "ExecuteTime": {
     "end_time": "2025-05-25T02:04:40.249349Z",
     "start_time": "2025-05-25T02:04:40.233572Z"
    }
   },
   "source": "",
   "outputs": [
    {
     "name": "stdout",
     "output_type": "stream",
     "text": [
      "hi\n"
     ]
    }
   ],
   "execution_count": 1
  },
  {
   "metadata": {
    "ExecuteTime": {
     "end_time": "2025-05-25T02:33:49.874384Z",
     "start_time": "2025-05-25T02:33:49.864242Z"
    }
   },
   "cell_type": "code",
   "source": [
    "import time\n",
    "\n",
    "\n",
    "def multi_yield():\n",
    "    for i in range(1,10):\n",
    "        time.sleep(0.5)\n",
    "        yield f\"{i}\"\n",
    "    for i in range(10):\n",
    "        yield f\"结果是{i}\""
   ],
   "id": "bf54183732746fda",
   "outputs": [],
   "execution_count": 16
  },
  {
   "metadata": {
    "ExecuteTime": {
     "end_time": "2025-05-25T02:33:56.156047Z",
     "start_time": "2025-05-25T02:33:51.546125Z"
    }
   },
   "cell_type": "code",
   "source": [
    "# res = [\n",
    "#     i\n",
    "#     for i in multi_yield()\n",
    "# ]\n",
    "# print(res)\n",
    "gen = multi_yield()\n",
    "for i in gen:\n",
    "    print(i)\n",
    "\n",
    "# print(next(gen))\n",
    "# print(next(gen))\n",
    "# print(next(gen))"
   ],
   "id": "3cce284c44562c66",
   "outputs": [
    {
     "name": "stdout",
     "output_type": "stream",
     "text": [
      "1\n",
      "2\n",
      "3\n",
      "4\n",
      "5\n",
      "6\n",
      "7\n",
      "8\n",
      "9\n",
      "结果是0\n",
      "结果是1\n",
      "结果是2\n",
      "结果是3\n",
      "结果是4\n",
      "结果是5\n",
      "结果是6\n",
      "结果是7\n",
      "结果是8\n",
      "结果是9\n"
     ]
    }
   ],
   "execution_count": 17
  }
 ],
 "metadata": {
  "kernelspec": {
   "display_name": "Python 3",
   "language": "python",
   "name": "python3"
  },
  "language_info": {
   "codemirror_mode": {
    "name": "ipython",
    "version": 2
   },
   "file_extension": ".py",
   "mimetype": "text/x-python",
   "name": "python",
   "nbconvert_exporter": "python",
   "pygments_lexer": "ipython2",
   "version": "2.7.6"
  }
 },
 "nbformat": 4,
 "nbformat_minor": 5
}
