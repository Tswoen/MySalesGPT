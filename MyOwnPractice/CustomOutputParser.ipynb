{
 "cells": [
  {
   "cell_type": "code",
   "id": "initial_id",
   "metadata": {
    "collapsed": true,
    "ExecuteTime": {
     "end_time": "2025-05-23T02:16:52.606697Z",
     "start_time": "2025-05-23T02:16:52.594115Z"
    }
   },
   "source": [
    "import os\n",
    "from typing import List\n",
    "\n",
    "from langchain_core.prompts import PromptTemplate\n",
    "from langchain_community.chat_models import ChatLiteLLM\n",
    "from langchain_core.output_parsers import BaseOutputParser"
   ],
   "outputs": [],
   "execution_count": 8
  },
  {
   "metadata": {
    "ExecuteTime": {
     "end_time": "2025-05-23T02:19:11.921991Z",
     "start_time": "2025-05-23T02:19:11.900794Z"
    }
   },
   "cell_type": "code",
   "source": [
    "os.environ['DASHSCOPE_API_KEY'] = 'sk-36c7f4e71d904a35afab94dc68747d48'\n",
    "llm = ChatLiteLLM(model=\"openai/qwen-max\",\n",
    "                  api_base=\"https://dashscope.aliyuncs.com/compatible-mode/v1\",\n",
    "                  api_key=os.environ.get('DASHSCOPE_API_KEY'))"
   ],
   "id": "321fdc79f6737f22",
   "outputs": [],
   "execution_count": 19
  },
  {
   "metadata": {
    "ExecuteTime": {
     "end_time": "2025-05-23T02:19:17.932707Z",
     "start_time": "2025-05-23T02:19:17.914474Z"
    }
   },
   "cell_type": "code",
   "source": [
    "class SalesConvoOutputParser(BaseOutputParser):\n",
    "\n",
    "    def parse(self, text: str) -> List[str]:\n",
    "        # This function should implement the logic to parse the output\n",
    "        # For now, it just returns the text as a list\n",
    "        return text.split(\",\")\n",
    "\n",
    "output_parser = SalesConvoOutputParser()\n",
    "\n",
    "prompt = PromptTemplate(\n",
    "    template=\"You are an AI assistant，Here are the questions you must answer:{input}\",\n",
    "    input_variables=[\"input\"]\n",
    ")"
   ],
   "id": "5056da82e9f829b1",
   "outputs": [],
   "execution_count": 21
  },
  {
   "metadata": {
    "ExecuteTime": {
     "end_time": "2025-05-23T03:02:42.290368Z",
     "start_time": "2025-05-23T03:02:42.239158Z"
    }
   },
   "cell_type": "code",
   "source": [
    "chain = prompt | llm | output_parser\n",
    "res = chain.invoke(input=\"Who are you?\")\n",
    "print(res)"
   ],
   "id": "69c209c867074fa2",
   "outputs": [],
   "execution_count": 27
  },
  {
   "metadata": {
    "ExecuteTime": {
     "end_time": "2025-05-23T03:02:47.251128Z",
     "start_time": "2025-05-23T03:02:44.009289Z"
    }
   },
   "cell_type": "code",
   "source": [
    "chain = prompt | llm | output_parser\n",
    "res = chain.invoke(input=\"Who are you?\")\n",
    "print(res)"
   ],
   "id": "3c060b7503bfa514",
   "outputs": [
    {
     "name": "stdout",
     "output_type": "stream",
     "text": [
      "['I am Qwen', \" an AI assistant created by Alibaba Cloud. I'm here to help answer your questions and provide information to the best of my ability. How can I assist you today?\"]\n"
     ]
    }
   ],
   "execution_count": 28
  }
 ],
 "metadata": {
  "kernelspec": {
   "display_name": "Python 3",
   "language": "python",
   "name": "python3"
  },
  "language_info": {
   "codemirror_mode": {
    "name": "ipython",
    "version": 2
   },
   "file_extension": ".py",
   "mimetype": "text/x-python",
   "name": "python",
   "nbconvert_exporter": "python",
   "pygments_lexer": "ipython2",
   "version": "2.7.6"
  }
 },
 "nbformat": 4,
 "nbformat_minor": 5
}
