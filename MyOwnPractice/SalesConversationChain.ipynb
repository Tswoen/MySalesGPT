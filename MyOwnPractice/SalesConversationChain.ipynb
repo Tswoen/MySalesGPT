{
 "cells": [
  {
   "cell_type": "code",
   "id": "initial_id",
   "metadata": {
    "collapsed": true
   },
   "source": [
    "import os\n",
    "from typing import Any\n",
    "\n",
    "from langchain_community.chat_models import ChatLiteLLM\n",
    "from langchain_core.prompts import PromptTemplate\n",
    "from langchain.chains import LLMChain"
   ],
   "outputs": [],
   "execution_count": 3
  },
  {
   "metadata": {
    "ExecuteTime": {
     "end_time": "2025-05-22T01:11:23.119281Z",
     "start_time": "2025-05-22T01:11:23.107094Z"
    }
   },
   "cell_type": "code",
   "source": [
    "class SalesConversationPrompt(PromptTemplate):\n",
    "\n",
    "    def format(self, **kwargs: Any) -> str:\n",
    "        kwargs[\"input\"] = \"Can you tell me How old are you?\"\n",
    "        return self.template.format(**kwargs)"
   ],
   "id": "235924ca4857b32c",
   "outputs": [],
   "execution_count": 4
  },
  {
   "metadata": {
    "ExecuteTime": {
     "end_time": "2025-05-22T01:11:27.105054Z",
     "start_time": "2025-05-22T01:11:27.093471Z"
    }
   },
   "cell_type": "code",
   "source": [
    "class SalesConversationChain(LLMChain):\n",
    "    \"\"\"Chain to generate the next utterance for the conversation.\"\"\"\n",
    "\n",
    "    @classmethod\n",
    "    # @time_logger\n",
    "    def from_llm(\n",
    "        cls,\n",
    "        llm: ChatLiteLLM,\n",
    "        verbose: bool = True,\n",
    "        use_custom_prompt: bool = False,\n",
    "        custom_prompt: str = \"You are an AI Sales agent, sell me this pencil\",\n",
    "    ) -> LLMChain:\n",
    "        \"\"\"Get the response parser.\"\"\"\n",
    "        # prompt = PromptTemplate.from_template(custom_prompt)\n",
    "        prompt = SalesConversationPrompt(template=custom_prompt,input_variables=[\"input\"])\n",
    "        return cls(prompt=prompt, llm=llm, verbose=verbose)\n"
   ],
   "id": "7ea72bef4d8217fa",
   "outputs": [],
   "execution_count": 5
  },
  {
   "metadata": {
    "ExecuteTime": {
     "end_time": "2025-05-22T01:41:01.656463Z",
     "start_time": "2025-05-22T01:40:49.768168Z"
    }
   },
   "cell_type": "code",
   "source": [
    "#是设置环境变量 DASHSCOPE_API_KEY 的值\n",
    "os.environ['DASHSCOPE_API_KEY'] = 'sk-36c7f4e71d904a35afab94dc68747d48'\n",
    "from langchain_community.chat_models import ChatLiteLLM\n",
    "llm = ChatLiteLLM(model=\"openai/qwen-max\",\n",
    "                  api_base=\"https://dashscope.aliyuncs.com/compatible-mode/v1\",\n",
    "                  api_key=os.environ['DASHSCOPE_API_KEY'])\n",
    "verbose = True\n",
    "custom_prompt = \"You are an AI Sales agent, sell me this pencil，Here are the questions you must answer:{input}\"\n",
    "# llm.invoke(\"What is your name?\")\n",
    "sales_conversation_utterance_chain = SalesConversationChain.from_llm(llm=llm,verbose=verbose,custom_prompt=custom_prompt)\n",
    "sales_conversation_utterance_chain.invoke({\"input\":\"Who are you?\"},return_intermediate_steps=True)"
   ],
   "id": "2d3fa1babf57e4cd",
   "outputs": [
    {
     "name": "stdout",
     "output_type": "stream",
     "text": [
      "\n",
      "\n",
      "\u001B[1m> Entering new SalesConversationChain chain...\u001B[0m\n",
      "Prompt after formatting:\n",
      "\u001B[32;1m\u001B[1;3mYou are an AI Sales agent, sell me this pencil，Here are the questions you must answer:Can you tell me How old are you?\u001B[0m\n",
      "\n",
      "\u001B[1m> Finished chain.\u001B[0m\n"
     ]
    },
    {
     "data": {
      "text/plain": [
       "{'input': 'Who are you?',\n",
       " 'text': \"I'm an AI, so I don't have an age in the traditional sense! But I'm here to help you with all the information and enthusiasm of a top-notch sales agent. Now, let's talk about this amazing pencil I have for you!\\n\\nThis pencil is not just any writing tool; it's designed to provide you with the smoothest, most comfortable writing experience. It has a perfectly balanced weight, making it easy to hold and write with for long periods. The graphite core is strong and break-resistant, ensuring that you can use it without worrying about frequent sharpening. Plus, it comes in a sleek, professional design that will look great on your desk or in your hand.\\n\\nSo, what do you think? Ready to give it a try?\"}"
      ]
     },
     "execution_count": 8,
     "metadata": {},
     "output_type": "execute_result"
    }
   ],
   "execution_count": 8
  }
 ],
 "metadata": {
  "kernelspec": {
   "display_name": "Python 3",
   "language": "python",
   "name": "python3"
  },
  "language_info": {
   "codemirror_mode": {
    "name": "ipython",
    "version": 2
   },
   "file_extension": ".py",
   "mimetype": "text/x-python",
   "name": "python",
   "nbconvert_exporter": "python",
   "pygments_lexer": "ipython2",
   "version": "2.7.6"
  }
 },
 "nbformat": 4,
 "nbformat_minor": 5
}
