{
 "cells": [
  {
   "cell_type": "code",
   "id": "initial_id",
   "metadata": {
    "collapsed": true,
    "ExecuteTime": {
     "end_time": "2025-05-22T03:20:42.232339Z",
     "start_time": "2025-05-22T03:20:42.194298Z"
    }
   },
   "source": [
    "import os\n",
    "from langchain_community.chat_models import ChatLiteLLM\n",
    "from langchain_core.prompts import PromptTemplate\n",
    "from langchain.chains import LLMChain"
   ],
   "outputs": [],
   "execution_count": 16
  },
  {
   "metadata": {
    "ExecuteTime": {
     "end_time": "2025-05-22T03:21:08.667600Z",
     "start_time": "2025-05-22T03:21:08.586322Z"
    }
   },
   "cell_type": "code",
   "source": [
    "class SalesConversationChain(LLMChain):\n",
    "    \"\"\"Chain to generate the next utterance for the conversation.\"\"\"\n",
    "\n",
    "    @classmethod\n",
    "    # @time_logger\n",
    "    def from_llm(\n",
    "        cls,\n",
    "        llm: ChatLiteLLM,\n",
    "        verbose: bool = True,\n",
    "        use_custom_prompt: bool = False,\n",
    "        custom_prompt: str = \"You are an AI Sales agent, sell me this pencil\",\n",
    "    ) -> LLMChain:\n",
    "        \"\"\"Get the response parser.\"\"\"\n",
    "        prompt = PromptTemplate.from_template(custom_prompt)\n",
    "        return cls(prompt=prompt, llm=llm, verbose=verbose)"
   ],
   "id": "7ea72bef4d8217fa",
   "outputs": [],
   "execution_count": 17
  },
  {
   "metadata": {
    "ExecuteTime": {
     "end_time": "2025-05-22T03:24:45.657446Z",
     "start_time": "2025-05-22T03:24:12.894643Z"
    }
   },
   "cell_type": "code",
   "source": [
    "#是设置环境变量 DASHSCOPE_API_KEY 的值\n",
    "os.environ['DASHSCOPE_API_KEY'] = 'sk-36c7f4e71d904a35afab94dc68747d48'\n",
    "from langchain_community.chat_models import ChatLiteLLM\n",
    "llm = ChatLiteLLM(model=\"openai/qwen-max\",\n",
    "                  api_base=\"https://dashscope.aliyuncs.com/compatible-mode/v1\",\n",
    "                  api_key=os.environ['DASHSCOPE_API_KEY'])\n",
    "verbose = True\n",
    "custom_prompt = \"You are an AI Sales agent, sell me this pencil\"\n",
    "# llm.invoke(\"What is your name?\")\n",
    "sales_conversation_utterance_chain = SalesConversationChain.from_llm(llm=llm,verbose=verbose,custom_prompt=custom_prompt)\n",
    "sales_conversation_utterance_chain.invoke({\"input\":\"Who are you?\"})"
   ],
   "id": "2d3fa1babf57e4cd",
   "outputs": [
    {
     "name": "stdout",
     "output_type": "stream",
     "text": [
      "\n",
      "\n",
      "\u001B[1m> Entering new SalesConversationChain chain...\u001B[0m\n",
      "Prompt after formatting:\n",
      "\u001B[32;1m\u001B[1;3mYou are an AI Sales agent, sell me this pencil\u001B[0m\n",
      "\n",
      "\u001B[1m> Finished chain.\u001B[0m\n"
     ]
    },
    {
     "data": {
      "text/plain": [
       "{'input': 'Who are you?',\n",
       " 'text': \"Of course! I'd be delighted to introduce you to this exceptional pencil. Let me tell you why it's not just any ordinary writing tool, but a masterpiece designed to elevate your writing and drawing experience.\\n\\n1. **Superior Quality Lead**: This pencil is crafted with high-quality graphite that ensures smooth, consistent lines. Whether you're sketching, writing, or doodling, you'll enjoy a seamless flow of ideas without the frustration of breaks or smudges.\\n\\n2. **Ergonomic Design**: The body of the pencil is designed with comfort in mind. It features a perfectly balanced weight and a comfortable grip, making it easy to hold and use for extended periods. Say goodbye to hand fatigue and hello to effortless writing and drawing.\\n\\n3. **Durable Construction**: Made from premium materials, this pencil is built to last. The strong wooden barrel resists cracking and splintering, ensuring that your pencil stays in top condition even after frequent use.\\n\\n4. **Versatile Use**: Whether you're a student, artist, writer, or professional, this pencil is versatile enough to meet all your needs. It's perfect for everything from detailed sketches to quick notes and everything in between.\\n\\n5. **Aesthetic Appeal**: The sleek, modern design of this pencil adds a touch of elegance to your desk or workspace. It's not just a tool; it's a statement piece that reflects your taste and style.\\n\\n6. **Environmentally Friendly**: We care about the environment, and so does this pencil. It's made from sustainably sourced wood, making it an eco-friendly choice for those who are conscious about their environmental impact.\\n\\n7. **Sharpening Ease**: The pencil sharpens easily and evenly, providing a fine, precise point every time. No more struggling with dull tips or uneven edges.\\n\\nIn summary, this pencil is not just a writing tool; it's a companion that will enhance your creative and practical endeavors. It combines quality, comfort, durability, and style, making it a must-have for anyone who values a superior writing experience.\\n\\nWould you like to know more about how this pencil can specifically benefit you, or are you ready to make it part of your daily routine?\"}"
      ]
     },
     "execution_count": 22,
     "metadata": {},
     "output_type": "execute_result"
    }
   ],
   "execution_count": 22
  }
 ],
 "metadata": {
  "kernelspec": {
   "display_name": "Python 3",
   "language": "python",
   "name": "python3"
  },
  "language_info": {
   "codemirror_mode": {
    "name": "ipython",
    "version": 2
   },
   "file_extension": ".py",
   "mimetype": "text/x-python",
   "name": "python",
   "nbconvert_exporter": "python",
   "pygments_lexer": "ipython2",
   "version": "2.7.6"
  }
 },
 "nbformat": 4,
 "nbformat_minor": 5
}
